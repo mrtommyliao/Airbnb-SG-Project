{
 "cells": [
  {
   "cell_type": "markdown",
   "metadata": {},
   "source": [
    "![title](img/airbnb.png)"
   ]
  },
  {
   "cell_type": "markdown",
   "metadata": {},
   "source": [
    "# Introduction"
   ]
  },
  {
   "cell_type": "markdown",
   "metadata": {},
   "source": [
    "This notebook is created as part of a capstone project for Springboard's Data Analytics Career Track program. The findings of this notebook will be paired with a Tableau dashboard to show different perspectives of the data.\n",
    "\n",
    "The data conducted in this notebook was found from https://www.kaggle.com/jojoker/singapore-airbnb \n",
    "and is based on a scrape of Airbnb SG listings published in August 2019. \n",
    "The background set for fictious scenario in this project is that a potential Airbnb host would like to figure out what the most lucrative region is to list a rental property. In addition, which variables are important or have an impact in deciding to list a rental property. \n",
    "\n"
   ]
  },
  {
   "cell_type": "markdown",
   "metadata": {},
   "source": [
    "## Import Relevant Libraries"
   ]
  },
  {
   "cell_type": "code",
   "execution_count": 1,
   "metadata": {},
   "outputs": [],
   "source": [
    "import numpy as np\n",
    "import pandas as pd\n",
    "import seaborn as sns\n",
    "import matplotlib as mpl\n",
    "import matplotlib.pyplot as plt\n",
    "import statsmodels.api as sm\n",
    "from scipy import stats\n",
    "from sklearn import datasets, linear_model\n",
    "from sklearn import preprocessing, metrics\n",
    "from sklearn.linear_model import LinearRegression\n",
    "from sklearn.model_selection import train_test_split\n",
    "from sklearn.linear_model import Lasso\n"
   ]
  },
  {
   "cell_type": "markdown",
   "metadata": {},
   "source": [
    "## Loading the Data\n",
    "#### Check data types of columns\n",
    "First off, let's check the data-type and shape of the dataset and see if there's any changes needed to be made.\n",
    "\n"
   ]
  },
  {
   "cell_type": "code",
   "execution_count": 2,
   "metadata": {},
   "outputs": [
    {
     "data": {
      "text/plain": [
       "id                                  int64\n",
       "name                               object\n",
       "host_id                             int64\n",
       "host_name                          object\n",
       "neighbourhood_group                object\n",
       "neighbourhood                      object\n",
       "latitude                          float64\n",
       "longitude                         float64\n",
       "room_type                          object\n",
       "price                               int64\n",
       "minimum_nights                      int64\n",
       "number_of_reviews                   int64\n",
       "last_review                        object\n",
       "reviews_per_month                 float64\n",
       "calculated_host_listings_count      int64\n",
       "availability_365                    int64\n",
       "dtype: object"
      ]
     },
     "execution_count": 2,
     "metadata": {},
     "output_type": "execute_result"
    }
   ],
   "source": [
    "dataset = pd.read_csv('Singapore Airbnb Listings.csv')\n",
    "dataset.dtypes"
   ]
  },
  {
   "cell_type": "code",
   "execution_count": 3,
   "metadata": {},
   "outputs": [
    {
     "data": {
      "text/plain": [
       "(7907, 16)"
      ]
     },
     "execution_count": 3,
     "metadata": {},
     "output_type": "execute_result"
    }
   ],
   "source": [
    "dataset.shape"
   ]
  },
  {
   "cell_type": "markdown",
   "metadata": {},
   "source": [
    "Initially the dataset contains roughly 8k rows and 16 columns with a mix of different datatypes (int64, float64, and objects)."
   ]
  },
  {
   "cell_type": "markdown",
   "metadata": {},
   "source": [
    "## Data Assessment and Data Cleansing\n"
   ]
  },
  {
   "cell_type": "markdown",
   "metadata": {},
   "source": [
    "Let's check for any nulls in the dataset and clean up our data."
   ]
  },
  {
   "cell_type": "code",
   "execution_count": 4,
   "metadata": {},
   "outputs": [
    {
     "data": {
      "text/plain": [
       "id                                   0\n",
       "name                                 2\n",
       "host_id                              0\n",
       "host_name                            0\n",
       "neighbourhood_group                  0\n",
       "neighbourhood                        0\n",
       "latitude                             0\n",
       "longitude                            0\n",
       "room_type                            0\n",
       "price                                0\n",
       "minimum_nights                       0\n",
       "number_of_reviews                    0\n",
       "last_review                       2758\n",
       "reviews_per_month                 2758\n",
       "calculated_host_listings_count       0\n",
       "availability_365                     0\n",
       "dtype: int64"
      ]
     },
     "execution_count": 4,
     "metadata": {},
     "output_type": "execute_result"
    }
   ],
   "source": [
    "dataset.isnull().sum()"
   ]
  },
  {
   "cell_type": "code",
   "execution_count": 5,
   "metadata": {},
   "outputs": [],
   "source": [
    "dataset.fillna({'reviews_per_month':0}, inplace=True)\n",
    "dataset.fillna({'last_review':\"Not Reviewed\"}, inplace=True)\n",
    "dataset.fillna({'name':\"No Name\"}, inplace=True)"
   ]
  },
  {
   "cell_type": "markdown",
   "metadata": {},
   "source": [
    "Checking for nulls show two null entries for names and 2758 null values for last_review and reviews_per_month.\n",
    "An assumption that these listings did not get a review by its guest will be made as typically not every\n",
    "individual will always leave a review.  \n",
    "\n",
    "Instead of having these values set at null, the values will be changed as followed:  \n",
    "Reviews per month -> 0   \n",
    "Last review -> Not Reviewed  \n",
    "Name -> No Name   \n",
    " \n"
   ]
  },
  {
   "cell_type": "code",
   "execution_count": 6,
   "metadata": {},
   "outputs": [
    {
     "data": {
      "text/plain": [
       "id                                0\n",
       "name                              0\n",
       "host_id                           0\n",
       "host_name                         0\n",
       "neighbourhood_group               0\n",
       "neighbourhood                     0\n",
       "latitude                          0\n",
       "longitude                         0\n",
       "room_type                         0\n",
       "price                             0\n",
       "minimum_nights                    0\n",
       "number_of_reviews                 0\n",
       "last_review                       0\n",
       "reviews_per_month                 0\n",
       "calculated_host_listings_count    0\n",
       "availability_365                  0\n",
       "dtype: int64"
      ]
     },
     "execution_count": 6,
     "metadata": {},
     "output_type": "execute_result"
    }
   ],
   "source": [
    "#Let's confirm that the changes are made in the dataset\n",
    "dataset.isnull().sum()"
   ]
  },
  {
   "cell_type": "markdown",
   "metadata": {},
   "source": [
    "## Airbnb SG Data Exploration and Visualization in Python"
   ]
  },
  {
   "cell_type": "markdown",
   "metadata": {},
   "source": [
    "### Exploring different variables\n",
    "Let's start exploring each variables in the dataset and seeing which is relevant to consider \n",
    "when a potential host wants to sign up with Airbnb.\n",
    "\n",
    "\n",
    "#### Correlation Matrix\n",
    "First, let's create a correlation matrix with all the variables to see an overall view of the relationship between\n",
    "variables.  \n",
    "Afterwards, let's dive into each variables of interest and see its effect.\n",
    "\n"
   ]
  },
  {
   "cell_type": "code",
   "execution_count": 7,
   "metadata": {},
   "outputs": [
    {
     "data": {
      "text/plain": [
       "Index(['id', 'name', 'host_id', 'host_name', 'neighbourhood_group',\n",
       "       'neighbourhood', 'latitude', 'longitude', 'room_type', 'price',\n",
       "       'minimum_nights', 'number_of_reviews', 'last_review',\n",
       "       'reviews_per_month', 'calculated_host_listings_count',\n",
       "       'availability_365'],\n",
       "      dtype='object')"
      ]
     },
     "execution_count": 7,
     "metadata": {},
     "output_type": "execute_result"
    },
    {
     "data": {
      "image/png": "[encoded data removed]",
      "text/plain": [
       "<Figure size 720x360 with 2 Axes>"
      ]
     },
     "metadata": {
      "needs_background": "light"
     },
     "output_type": "display_data"
    }
   ],
   "source": [
    "corr = dataset.corr(method = 'pearson')\n",
    "plt.figure(figsize=(10,5))\n",
    "sns.heatmap(corr, annot = True)\n",
    "dataset.columns"
   ]
  },
  {
   "cell_type": "markdown",
   "metadata": {},
   "source": [
    "It would be expected that not all variables would be an important feature for a potential host to consider when wanting to list a property with Airbnb. Logically speaking, it does not make sense if id and host-id have much of an impact. These variables are just place-holders to identify the listing name and the name of the host. I would assume that variables such as price, minimum nights, reviews, host listings count and availability would play a much bigger role for a potential host to decide where to list their properties.\n",
    "\n"
   ]
  },
  {
   "cell_type": "markdown",
   "metadata": {},
   "source": [
    "#### Price"
   ]
  },
  {
   "cell_type": "code",
   "execution_count": 8,
   "metadata": {},
   "outputs": [
    {
     "data": {
      "text/plain": [
       "count     7907.000000\n",
       "mean       169.332996\n",
       "std        340.187599\n",
       "min          0.000000\n",
       "25%         65.000000\n",
       "50%        124.000000\n",
       "75%        199.000000\n",
       "max      10000.000000\n",
       "Name: price, dtype: float64"
      ]
     },
     "execution_count": 8,
     "metadata": {},
     "output_type": "execute_result"
    }
   ],
   "source": [
    "#Let's first look at price\n",
    "dataset[\"price\"].describe()"
   ]
  },
  {
   "cell_type": "markdown",
   "metadata": {},
   "source": [
    "We can see that the average price of an airbnb listing in Singapore in 2019 is 169, howver this does not\n",
    "consider price by room type.  \n",
    "Price range varies between 0 to 10000, this seems a bit odd!"
   ]
  },
  {
   "cell_type": "code",
   "execution_count": 9,
   "metadata": {},
   "outputs": [
    {
     "data": {
      "image/png": "[encoded data removed]",
      "text/plain": [
       "<Figure size 432x288 with 1 Axes>"
      ]
     },
     "metadata": {
      "needs_background": "light"
     },
     "output_type": "display_data"
    }
   ],
   "source": [
    "#How does the distribution of price look?\n",
    "\n",
    "hist_price = dataset[\"price\"].hist()\n",
    "plt.xlabel('Price')\n",
    "plt.ylabel('Number of Listings')\n",
    "plt.title('Airbnb SG Price by Number of Listings')\n",
    "plt.show()\n"
   ]
  },
  {
   "cell_type": "markdown",
   "metadata": {},
   "source": [
    "We can clearly see that although the price range is between 0-1000 majority of the listings have a price\n",
    "under 1000.  \n"
   ]
  },
  {
   "cell_type": "code",
   "execution_count": 10,
   "metadata": {},
   "outputs": [
    {
     "data": {
      "image/png": "[encoded data removed]",
      "text/plain": [
       "<Figure size 432x288 with 1 Axes>"
      ]
     },
     "metadata": {
      "needs_background": "light"
     },
     "output_type": "display_data"
    }
   ],
   "source": [
    "#Let's set a price cap to visualize a better price distribution and to determine the outliers\n",
    "\n",
    "hist_price0 = dataset[\"price\"][dataset[\"price\"]<1800].hist()\n",
    "plt.xlabel('Price')\n",
    "plt.ylabel('Number of Listings')\n",
    "plt.title('Airbnb SG Price by Number of Listings')\n",
    "plt.show()\n",
    "\n"
   ]
  },
  {
   "cell_type": "markdown",
   "metadata": {},
   "source": [
    "This histogram shows a clearer picture of the overall listing price offered in Airbnb SG.    \n",
    "There's a normal distribution with most of the listings being in the price range of 0-300.  \n",
    "Let's now determine the percentages of listings under 1K and the listings over 1K.\n"
   ]
  },
  {
   "cell_type": "code",
   "execution_count": 11,
   "metadata": {},
   "outputs": [
    {
     "data": {
      "text/html": [
       "<div>\n",
       "<style scoped>\n",
       "    .dataframe tbody tr th:only-of-type {\n",
       "        vertical-align: middle;\n",
       "    }\n",
       "\n",
       "    .dataframe tbody tr th {\n",
       "        vertical-align: top;\n",
       "    }\n",
       "\n",
       "    .dataframe thead th {\n",
       "        text-align: right;\n",
       "    }\n",
       "</style>\n",
       "<table border=\"1\" class=\"dataframe\">\n",
       "  <thead>\n",
       "    <tr style=\"text-align: right;\">\n",
       "      <th></th>\n",
       "      <th>id</th>\n",
       "      <th>name</th>\n",
       "      <th>host_id</th>\n",
       "      <th>host_name</th>\n",
       "      <th>neighbourhood_group</th>\n",
       "      <th>neighbourhood</th>\n",
       "      <th>latitude</th>\n",
       "      <th>longitude</th>\n",
       "      <th>room_type</th>\n",
       "      <th>price</th>\n",
       "      <th>minimum_nights</th>\n",
       "      <th>number_of_reviews</th>\n",
       "      <th>last_review</th>\n",
       "      <th>reviews_per_month</th>\n",
       "      <th>calculated_host_listings_count</th>\n",
       "      <th>availability_365</th>\n",
       "    </tr>\n",
       "  </thead>\n",
       "  <tbody>\n",
       "    <tr>\n",
       "      <th>0</th>\n",
       "      <td>49091</td>\n",
       "      <td>COZICOMFORT LONG TERM STAY ROOM 2</td>\n",
       "      <td>266763</td>\n",
       "      <td>Francesca</td>\n",
       "      <td>North Region</td>\n",
       "      <td>Woodlands</td>\n",
       "      <td>1.44255</td>\n",
       "      <td>103.79580</td>\n",
       "      <td>Private room</td>\n",
       "      <td>83</td>\n",
       "      <td>180</td>\n",
       "      <td>1</td>\n",
       "      <td>2013-10-21</td>\n",
       "      <td>0.01</td>\n",
       "      <td>2</td>\n",
       "      <td>365</td>\n",
       "    </tr>\n",
       "    <tr>\n",
       "      <th>1</th>\n",
       "      <td>50646</td>\n",
       "      <td>Pleasant Room along Bukit Timah</td>\n",
       "      <td>227796</td>\n",
       "      <td>Sujatha</td>\n",
       "      <td>Central Region</td>\n",
       "      <td>Bukit Timah</td>\n",
       "      <td>1.33235</td>\n",
       "      <td>103.78521</td>\n",
       "      <td>Private room</td>\n",
       "      <td>81</td>\n",
       "      <td>90</td>\n",
       "      <td>18</td>\n",
       "      <td>2014-12-26</td>\n",
       "      <td>0.28</td>\n",
       "      <td>1</td>\n",
       "      <td>365</td>\n",
       "    </tr>\n",
       "    <tr>\n",
       "      <th>2</th>\n",
       "      <td>56334</td>\n",
       "      <td>COZICOMFORT</td>\n",
       "      <td>266763</td>\n",
       "      <td>Francesca</td>\n",
       "      <td>North Region</td>\n",
       "      <td>Woodlands</td>\n",
       "      <td>1.44246</td>\n",
       "      <td>103.79667</td>\n",
       "      <td>Private room</td>\n",
       "      <td>69</td>\n",
       "      <td>6</td>\n",
       "      <td>20</td>\n",
       "      <td>2015-10-01</td>\n",
       "      <td>0.20</td>\n",
       "      <td>2</td>\n",
       "      <td>365</td>\n",
       "    </tr>\n",
       "    <tr>\n",
       "      <th>3</th>\n",
       "      <td>71609</td>\n",
       "      <td>Ensuite Room (Room 1 &amp; 2) near EXPO</td>\n",
       "      <td>367042</td>\n",
       "      <td>Belinda</td>\n",
       "      <td>East Region</td>\n",
       "      <td>Tampines</td>\n",
       "      <td>1.34541</td>\n",
       "      <td>103.95712</td>\n",
       "      <td>Private room</td>\n",
       "      <td>206</td>\n",
       "      <td>1</td>\n",
       "      <td>14</td>\n",
       "      <td>2019-08-11</td>\n",
       "      <td>0.15</td>\n",
       "      <td>9</td>\n",
       "      <td>353</td>\n",
       "    </tr>\n",
       "    <tr>\n",
       "      <th>4</th>\n",
       "      <td>71896</td>\n",
       "      <td>B&amp;B  Room 1 near Airport &amp; EXPO</td>\n",
       "      <td>367042</td>\n",
       "      <td>Belinda</td>\n",
       "      <td>East Region</td>\n",
       "      <td>Tampines</td>\n",
       "      <td>1.34567</td>\n",
       "      <td>103.95963</td>\n",
       "      <td>Private room</td>\n",
       "      <td>94</td>\n",
       "      <td>1</td>\n",
       "      <td>22</td>\n",
       "      <td>2019-07-28</td>\n",
       "      <td>0.22</td>\n",
       "      <td>9</td>\n",
       "      <td>355</td>\n",
       "    </tr>\n",
       "    <tr>\n",
       "      <th>...</th>\n",
       "      <td>...</td>\n",
       "      <td>...</td>\n",
       "      <td>...</td>\n",
       "      <td>...</td>\n",
       "      <td>...</td>\n",
       "      <td>...</td>\n",
       "      <td>...</td>\n",
       "      <td>...</td>\n",
       "      <td>...</td>\n",
       "      <td>...</td>\n",
       "      <td>...</td>\n",
       "      <td>...</td>\n",
       "      <td>...</td>\n",
       "      <td>...</td>\n",
       "      <td>...</td>\n",
       "      <td>...</td>\n",
       "    </tr>\n",
       "    <tr>\n",
       "      <th>7902</th>\n",
       "      <td>38105126</td>\n",
       "      <td>Loft 2 pax near Haw Par / Pasir Panjang. Free ...</td>\n",
       "      <td>278109833</td>\n",
       "      <td>Belle</td>\n",
       "      <td>Central Region</td>\n",
       "      <td>Queenstown</td>\n",
       "      <td>1.27973</td>\n",
       "      <td>103.78751</td>\n",
       "      <td>Entire home/apt</td>\n",
       "      <td>100</td>\n",
       "      <td>3</td>\n",
       "      <td>0</td>\n",
       "      <td>Not Reviewed</td>\n",
       "      <td>0.00</td>\n",
       "      <td>31</td>\n",
       "      <td>61</td>\n",
       "    </tr>\n",
       "    <tr>\n",
       "      <th>7903</th>\n",
       "      <td>38108273</td>\n",
       "      <td>3bedroom luxury at Orchard</td>\n",
       "      <td>238891646</td>\n",
       "      <td>Neha</td>\n",
       "      <td>Central Region</td>\n",
       "      <td>Tanglin</td>\n",
       "      <td>1.29269</td>\n",
       "      <td>103.82623</td>\n",
       "      <td>Entire home/apt</td>\n",
       "      <td>550</td>\n",
       "      <td>6</td>\n",
       "      <td>0</td>\n",
       "      <td>Not Reviewed</td>\n",
       "      <td>0.00</td>\n",
       "      <td>34</td>\n",
       "      <td>365</td>\n",
       "    </tr>\n",
       "    <tr>\n",
       "      <th>7904</th>\n",
       "      <td>38109336</td>\n",
       "      <td>[ Farrer Park ] New City Fringe CBD Mins to MRT</td>\n",
       "      <td>281448565</td>\n",
       "      <td>Mindy</td>\n",
       "      <td>Central Region</td>\n",
       "      <td>Kallang</td>\n",
       "      <td>1.31286</td>\n",
       "      <td>103.85996</td>\n",
       "      <td>Private room</td>\n",
       "      <td>58</td>\n",
       "      <td>30</td>\n",
       "      <td>0</td>\n",
       "      <td>Not Reviewed</td>\n",
       "      <td>0.00</td>\n",
       "      <td>3</td>\n",
       "      <td>173</td>\n",
       "    </tr>\n",
       "    <tr>\n",
       "      <th>7905</th>\n",
       "      <td>38110493</td>\n",
       "      <td>Cheap Master Room in Central of Singapore</td>\n",
       "      <td>243835202</td>\n",
       "      <td>Huang</td>\n",
       "      <td>Central Region</td>\n",
       "      <td>River Valley</td>\n",
       "      <td>1.29543</td>\n",
       "      <td>103.83801</td>\n",
       "      <td>Private room</td>\n",
       "      <td>56</td>\n",
       "      <td>14</td>\n",
       "      <td>0</td>\n",
       "      <td>Not Reviewed</td>\n",
       "      <td>0.00</td>\n",
       "      <td>2</td>\n",
       "      <td>30</td>\n",
       "    </tr>\n",
       "    <tr>\n",
       "      <th>7906</th>\n",
       "      <td>38112762</td>\n",
       "      <td>Amazing room with private bathroom walk to Orc...</td>\n",
       "      <td>28788520</td>\n",
       "      <td>Terence</td>\n",
       "      <td>Central Region</td>\n",
       "      <td>River Valley</td>\n",
       "      <td>1.29672</td>\n",
       "      <td>103.83325</td>\n",
       "      <td>Private room</td>\n",
       "      <td>65</td>\n",
       "      <td>90</td>\n",
       "      <td>0</td>\n",
       "      <td>Not Reviewed</td>\n",
       "      <td>0.00</td>\n",
       "      <td>7</td>\n",
       "      <td>365</td>\n",
       "    </tr>\n",
       "  </tbody>\n",
       "</table>\n",
       "<p>7859 rows × 16 columns</p>\n",
       "</div>"
      ],
      "text/plain": [
       "            id                                               name    host_id  \\\n",
       "0        49091                  COZICOMFORT LONG TERM STAY ROOM 2     266763   \n",
       "1        50646                    Pleasant Room along Bukit Timah     227796   \n",
       "2        56334                                        COZICOMFORT     266763   \n",
       "3        71609                Ensuite Room (Room 1 & 2) near EXPO     367042   \n",
       "4        71896                    B&B  Room 1 near Airport & EXPO     367042   \n",
       "...        ...                                                ...        ...   \n",
       "7902  38105126  Loft 2 pax near Haw Par / Pasir Panjang. Free ...  278109833   \n",
       "7903  38108273                         3bedroom luxury at Orchard  238891646   \n",
       "7904  38109336    [ Farrer Park ] New City Fringe CBD Mins to MRT  281448565   \n",
       "7905  38110493          Cheap Master Room in Central of Singapore  243835202   \n",
       "7906  38112762  Amazing room with private bathroom walk to Orc...   28788520   \n",
       "\n",
       "      host_name neighbourhood_group neighbourhood  latitude  longitude  \\\n",
       "0     Francesca        North Region     Woodlands   1.44255  103.79580   \n",
       "1       Sujatha      Central Region   Bukit Timah   1.33235  103.78521   \n",
       "2     Francesca        North Region     Woodlands   1.44246  103.79667   \n",
       "3       Belinda         East Region      Tampines   1.34541  103.95712   \n",
       "4       Belinda         East Region      Tampines   1.34567  103.95963   \n",
       "...         ...                 ...           ...       ...        ...   \n",
       "7902      Belle      Central Region    Queenstown   1.27973  103.78751   \n",
       "7903       Neha      Central Region       Tanglin   1.29269  103.82623   \n",
       "7904      Mindy      Central Region       Kallang   1.31286  103.85996   \n",
       "7905      Huang      Central Region  River Valley   1.29543  103.83801   \n",
       "7906    Terence      Central Region  River Valley   1.29672  103.83325   \n",
       "\n",
       "            room_type  price  minimum_nights  number_of_reviews   last_review  \\\n",
       "0        Private room     83             180                  1    2013-10-21   \n",
       "1        Private room     81              90                 18    2014-12-26   \n",
       "2        Private room     69               6                 20    2015-10-01   \n",
       "3        Private room    206               1                 14    2019-08-11   \n",
       "4        Private room     94               1                 22    2019-07-28   \n",
       "...               ...    ...             ...                ...           ...   \n",
       "7902  Entire home/apt    100               3                  0  Not Reviewed   \n",
       "7903  Entire home/apt    550               6                  0  Not Reviewed   \n",
       "7904     Private room     58              30                  0  Not Reviewed   \n",
       "7905     Private room     56              14                  0  Not Reviewed   \n",
       "7906     Private room     65              90                  0  Not Reviewed   \n",
       "\n",
       "      reviews_per_month  calculated_host_listings_count  availability_365  \n",
       "0                  0.01                               2               365  \n",
       "1                  0.28                               1               365  \n",
       "2                  0.20                               2               365  \n",
       "3                  0.15                               9               353  \n",
       "4                  0.22                               9               355  \n",
       "...                 ...                             ...               ...  \n",
       "7902               0.00                              31                61  \n",
       "7903               0.00                              34               365  \n",
       "7904               0.00                               3               173  \n",
       "7905               0.00                               2                30  \n",
       "7906               0.00                               7               365  \n",
       "\n",
       "[7859 rows x 16 columns]"
      ]
     },
     "execution_count": 11,
     "metadata": {},
     "output_type": "execute_result"
    }
   ],
   "source": [
    "#How many listings have price under $1000?\n",
    "dataset[dataset[\"price\"]<1000]"
   ]
  },
  {
   "cell_type": "code",
   "execution_count": 12,
   "metadata": {},
   "outputs": [
    {
     "data": {
      "text/html": [
       "<div>\n",
       "<style scoped>\n",
       "    .dataframe tbody tr th:only-of-type {\n",
       "        vertical-align: middle;\n",
       "    }\n",
       "\n",
       "    .dataframe tbody tr th {\n",
       "        vertical-align: top;\n",
       "    }\n",
       "\n",
       "    .dataframe thead th {\n",
       "        text-align: right;\n",
       "    }\n",
       "</style>\n",
       "<table border=\"1\" class=\"dataframe\">\n",
       "  <thead>\n",
       "    <tr style=\"text-align: right;\">\n",
       "      <th></th>\n",
       "      <th>id</th>\n",
       "      <th>name</th>\n",
       "      <th>host_id</th>\n",
       "      <th>host_name</th>\n",
       "      <th>neighbourhood_group</th>\n",
       "      <th>neighbourhood</th>\n",
       "      <th>latitude</th>\n",
       "      <th>longitude</th>\n",
       "      <th>room_type</th>\n",
       "      <th>price</th>\n",
       "      <th>minimum_nights</th>\n",
       "      <th>number_of_reviews</th>\n",
       "      <th>last_review</th>\n",
       "      <th>reviews_per_month</th>\n",
       "      <th>calculated_host_listings_count</th>\n",
       "      <th>availability_365</th>\n",
       "    </tr>\n",
       "  </thead>\n",
       "  <tbody>\n",
       "    <tr>\n",
       "      <th>38</th>\n",
       "      <td>804470</td>\n",
       "      <td>Spacious Luxury Condo in Orchard</td>\n",
       "      <td>741873</td>\n",
       "      <td>Dara</td>\n",
       "      <td>Central Region</td>\n",
       "      <td>Tanglin</td>\n",
       "      <td>1.30292</td>\n",
       "      <td>103.82253</td>\n",
       "      <td>Entire home/apt</td>\n",
       "      <td>2604</td>\n",
       "      <td>1</td>\n",
       "      <td>1</td>\n",
       "      <td>2014-02-22</td>\n",
       "      <td>0.01</td>\n",
       "      <td>1</td>\n",
       "      <td>0</td>\n",
       "    </tr>\n",
       "    <tr>\n",
       "      <th>160</th>\n",
       "      <td>2566687</td>\n",
       "      <td>Room in the NW part of SG</td>\n",
       "      <td>4332365</td>\n",
       "      <td>Kenneth</td>\n",
       "      <td>West Region</td>\n",
       "      <td>Choa Chu Kang</td>\n",
       "      <td>1.39245</td>\n",
       "      <td>103.75270</td>\n",
       "      <td>Private room</td>\n",
       "      <td>1200</td>\n",
       "      <td>13</td>\n",
       "      <td>0</td>\n",
       "      <td>Not Reviewed</td>\n",
       "      <td>0.00</td>\n",
       "      <td>1</td>\n",
       "      <td>365</td>\n",
       "    </tr>\n",
       "    <tr>\n",
       "      <th>466</th>\n",
       "      <td>5807596</td>\n",
       "      <td>Small Cozy Masterbed room</td>\n",
       "      <td>30132726</td>\n",
       "      <td>Ho</td>\n",
       "      <td>Central Region</td>\n",
       "      <td>Bukit Merah</td>\n",
       "      <td>1.27513</td>\n",
       "      <td>103.81075</td>\n",
       "      <td>Private room</td>\n",
       "      <td>2000</td>\n",
       "      <td>1</td>\n",
       "      <td>0</td>\n",
       "      <td>Not Reviewed</td>\n",
       "      <td>0.00</td>\n",
       "      <td>1</td>\n",
       "      <td>0</td>\n",
       "    </tr>\n",
       "    <tr>\n",
       "      <th>601</th>\n",
       "      <td>6790378</td>\n",
       "      <td>Near Orchard Single Room-Female Only</td>\n",
       "      <td>29444441</td>\n",
       "      <td>JYidea</td>\n",
       "      <td>Central Region</td>\n",
       "      <td>Novena</td>\n",
       "      <td>1.31564</td>\n",
       "      <td>103.84075</td>\n",
       "      <td>Private room</td>\n",
       "      <td>1800</td>\n",
       "      <td>1</td>\n",
       "      <td>0</td>\n",
       "      <td>Not Reviewed</td>\n",
       "      <td>0.00</td>\n",
       "      <td>1</td>\n",
       "      <td>83</td>\n",
       "    </tr>\n",
       "    <tr>\n",
       "      <th>610</th>\n",
       "      <td>6837947</td>\n",
       "      <td>Flat for Rent</td>\n",
       "      <td>35833085</td>\n",
       "      <td>Benedict</td>\n",
       "      <td>North-East Region</td>\n",
       "      <td>Hougang</td>\n",
       "      <td>1.37877</td>\n",
       "      <td>103.88950</td>\n",
       "      <td>Entire home/apt</td>\n",
       "      <td>2300</td>\n",
       "      <td>365</td>\n",
       "      <td>0</td>\n",
       "      <td>Not Reviewed</td>\n",
       "      <td>0.00</td>\n",
       "      <td>1</td>\n",
       "      <td>365</td>\n",
       "    </tr>\n",
       "    <tr>\n",
       "      <th>922</th>\n",
       "      <td>8742389</td>\n",
       "      <td>Full furniture and nice enviroment</td>\n",
       "      <td>45863208</td>\n",
       "      <td>Sean</td>\n",
       "      <td>Central Region</td>\n",
       "      <td>Bishan</td>\n",
       "      <td>1.36486</td>\n",
       "      <td>103.83297</td>\n",
       "      <td>Shared room</td>\n",
       "      <td>1100</td>\n",
       "      <td>1</td>\n",
       "      <td>0</td>\n",
       "      <td>Not Reviewed</td>\n",
       "      <td>0.00</td>\n",
       "      <td>1</td>\n",
       "      <td>90</td>\n",
       "    </tr>\n",
       "    <tr>\n",
       "      <th>949</th>\n",
       "      <td>8957125</td>\n",
       "      <td>Red Hill HDB 出租 近地铁站 楼下有两个食阁 交通方便</td>\n",
       "      <td>46814375</td>\n",
       "      <td>Victor</td>\n",
       "      <td>Central Region</td>\n",
       "      <td>Bukit Merah</td>\n",
       "      <td>1.28733</td>\n",
       "      <td>103.81630</td>\n",
       "      <td>Private room</td>\n",
       "      <td>1019</td>\n",
       "      <td>1</td>\n",
       "      <td>0</td>\n",
       "      <td>Not Reviewed</td>\n",
       "      <td>0.00</td>\n",
       "      <td>1</td>\n",
       "      <td>365</td>\n",
       "    </tr>\n",
       "    <tr>\n",
       "      <th>1119</th>\n",
       "      <td>9958663</td>\n",
       "      <td>Master Bedroom for RENT</td>\n",
       "      <td>35263906</td>\n",
       "      <td>Jerome</td>\n",
       "      <td>Central Region</td>\n",
       "      <td>Bishan</td>\n",
       "      <td>1.36412</td>\n",
       "      <td>103.83146</td>\n",
       "      <td>Private room</td>\n",
       "      <td>1350</td>\n",
       "      <td>1</td>\n",
       "      <td>0</td>\n",
       "      <td>Not Reviewed</td>\n",
       "      <td>0.00</td>\n",
       "      <td>1</td>\n",
       "      <td>0</td>\n",
       "    </tr>\n",
       "    <tr>\n",
       "      <th>1183</th>\n",
       "      <td>10343562</td>\n",
       "      <td>City 1 + 1 Bedroom Studio Apartment</td>\n",
       "      <td>53235451</td>\n",
       "      <td>Ian</td>\n",
       "      <td>Central Region</td>\n",
       "      <td>Rochor</td>\n",
       "      <td>1.29943</td>\n",
       "      <td>103.85177</td>\n",
       "      <td>Entire home/apt</td>\n",
       "      <td>3500</td>\n",
       "      <td>365</td>\n",
       "      <td>0</td>\n",
       "      <td>Not Reviewed</td>\n",
       "      <td>0.00</td>\n",
       "      <td>1</td>\n",
       "      <td>0</td>\n",
       "    </tr>\n",
       "    <tr>\n",
       "      <th>1319</th>\n",
       "      <td>11544732</td>\n",
       "      <td>P</td>\n",
       "      <td>60916030</td>\n",
       "      <td>Yin</td>\n",
       "      <td>Central Region</td>\n",
       "      <td>Outram</td>\n",
       "      <td>1.28348</td>\n",
       "      <td>103.84135</td>\n",
       "      <td>Private room</td>\n",
       "      <td>7000</td>\n",
       "      <td>2</td>\n",
       "      <td>5</td>\n",
       "      <td>2017-12-12</td>\n",
       "      <td>0.18</td>\n",
       "      <td>1</td>\n",
       "      <td>365</td>\n",
       "    </tr>\n",
       "    <tr>\n",
       "      <th>1412</th>\n",
       "      <td>12097789</td>\n",
       "      <td>Capella The Club Residences Singapore - 2 BR S...</td>\n",
       "      <td>9938906</td>\n",
       "      <td>Capella Club Residences</td>\n",
       "      <td>Central Region</td>\n",
       "      <td>Southern Islands</td>\n",
       "      <td>1.25040</td>\n",
       "      <td>103.82539</td>\n",
       "      <td>Entire home/apt</td>\n",
       "      <td>1294</td>\n",
       "      <td>3</td>\n",
       "      <td>1</td>\n",
       "      <td>2016-08-25</td>\n",
       "      <td>0.03</td>\n",
       "      <td>3</td>\n",
       "      <td>155</td>\n",
       "    </tr>\n",
       "    <tr>\n",
       "      <th>1475</th>\n",
       "      <td>12583148</td>\n",
       "      <td>geylang 14 主人房 master room1300sgd</td>\n",
       "      <td>48377803</td>\n",
       "      <td>子隆</td>\n",
       "      <td>Central Region</td>\n",
       "      <td>Geylang</td>\n",
       "      <td>1.31380</td>\n",
       "      <td>103.88099</td>\n",
       "      <td>Private room</td>\n",
       "      <td>1300</td>\n",
       "      <td>1</td>\n",
       "      <td>0</td>\n",
       "      <td>Not Reviewed</td>\n",
       "      <td>0.00</td>\n",
       "      <td>1</td>\n",
       "      <td>365</td>\n",
       "    </tr>\n",
       "    <tr>\n",
       "      <th>1791</th>\n",
       "      <td>14620083</td>\n",
       "      <td>Capella The Club Residences Singapore - 3 BR S...</td>\n",
       "      <td>9938906</td>\n",
       "      <td>Capella Club Residences</td>\n",
       "      <td>Central Region</td>\n",
       "      <td>Southern Islands</td>\n",
       "      <td>1.24918</td>\n",
       "      <td>103.82509</td>\n",
       "      <td>Entire home/apt</td>\n",
       "      <td>2943</td>\n",
       "      <td>1</td>\n",
       "      <td>3</td>\n",
       "      <td>2019-02-13</td>\n",
       "      <td>0.21</td>\n",
       "      <td>3</td>\n",
       "      <td>92</td>\n",
       "    </tr>\n",
       "    <tr>\n",
       "      <th>2033</th>\n",
       "      <td>16155549</td>\n",
       "      <td>common room (3 minutes walking from MRT station)</td>\n",
       "      <td>91481229</td>\n",
       "      <td>Lin</td>\n",
       "      <td>Central Region</td>\n",
       "      <td>Toa Payoh</td>\n",
       "      <td>1.33342</td>\n",
       "      <td>103.84897</td>\n",
       "      <td>Private room</td>\n",
       "      <td>4000</td>\n",
       "      <td>3</td>\n",
       "      <td>0</td>\n",
       "      <td>Not Reviewed</td>\n",
       "      <td>0.00</td>\n",
       "      <td>1</td>\n",
       "      <td>180</td>\n",
       "    </tr>\n",
       "    <tr>\n",
       "      <th>2100</th>\n",
       "      <td>16395877</td>\n",
       "      <td>The Club Residences - Contemporary Manor</td>\n",
       "      <td>84411185</td>\n",
       "      <td>Darren</td>\n",
       "      <td>Central Region</td>\n",
       "      <td>Southern Islands</td>\n",
       "      <td>1.25284</td>\n",
       "      <td>103.82225</td>\n",
       "      <td>Entire home/apt</td>\n",
       "      <td>8900</td>\n",
       "      <td>2</td>\n",
       "      <td>0</td>\n",
       "      <td>Not Reviewed</td>\n",
       "      <td>0.00</td>\n",
       "      <td>6</td>\n",
       "      <td>361</td>\n",
       "    </tr>\n",
       "    <tr>\n",
       "      <th>2392</th>\n",
       "      <td>17831833</td>\n",
       "      <td>Comfortable &amp; Quiet Master Bedroom</td>\n",
       "      <td>68223771</td>\n",
       "      <td>Yolivia</td>\n",
       "      <td>West Region</td>\n",
       "      <td>Bukit Panjang</td>\n",
       "      <td>1.34775</td>\n",
       "      <td>103.77181</td>\n",
       "      <td>Private room</td>\n",
       "      <td>10000</td>\n",
       "      <td>1</td>\n",
       "      <td>1</td>\n",
       "      <td>2017-05-27</td>\n",
       "      <td>0.04</td>\n",
       "      <td>1</td>\n",
       "      <td>0</td>\n",
       "    </tr>\n",
       "    <tr>\n",
       "      <th>2667</th>\n",
       "      <td>19218794</td>\n",
       "      <td>Renovated Master Bedroom &amp; own bathroom@East C...</td>\n",
       "      <td>36416351</td>\n",
       "      <td>Min</td>\n",
       "      <td>East Region</td>\n",
       "      <td>Bedok</td>\n",
       "      <td>1.30763</td>\n",
       "      <td>103.91451</td>\n",
       "      <td>Private room</td>\n",
       "      <td>3000</td>\n",
       "      <td>90</td>\n",
       "      <td>33</td>\n",
       "      <td>2018-03-31</td>\n",
       "      <td>1.25</td>\n",
       "      <td>1</td>\n",
       "      <td>90</td>\n",
       "    </tr>\n",
       "    <tr>\n",
       "      <th>2764</th>\n",
       "      <td>19739630</td>\n",
       "      <td>Lakeside Master room of condo 裕廊湖畔公寓主人房</td>\n",
       "      <td>139204582</td>\n",
       "      <td>X-Roy</td>\n",
       "      <td>West Region</td>\n",
       "      <td>Jurong East</td>\n",
       "      <td>1.33633</td>\n",
       "      <td>103.72569</td>\n",
       "      <td>Private room</td>\n",
       "      <td>7000</td>\n",
       "      <td>2</td>\n",
       "      <td>0</td>\n",
       "      <td>Not Reviewed</td>\n",
       "      <td>0.00</td>\n",
       "      <td>1</td>\n",
       "      <td>0</td>\n",
       "    </tr>\n",
       "    <tr>\n",
       "      <th>2813</th>\n",
       "      <td>19986946</td>\n",
       "      <td>旅行家</td>\n",
       "      <td>34732327</td>\n",
       "      <td>Xia</td>\n",
       "      <td>East Region</td>\n",
       "      <td>Bedok</td>\n",
       "      <td>1.32184</td>\n",
       "      <td>103.93501</td>\n",
       "      <td>Private room</td>\n",
       "      <td>5000</td>\n",
       "      <td>3</td>\n",
       "      <td>0</td>\n",
       "      <td>Not Reviewed</td>\n",
       "      <td>0.00</td>\n",
       "      <td>1</td>\n",
       "      <td>79</td>\n",
       "    </tr>\n",
       "    <tr>\n",
       "      <th>2967</th>\n",
       "      <td>20754671</td>\n",
       "      <td>F1 weekend in Singapore.</td>\n",
       "      <td>96721693</td>\n",
       "      <td>Zsolt</td>\n",
       "      <td>Central Region</td>\n",
       "      <td>Kallang</td>\n",
       "      <td>1.31404</td>\n",
       "      <td>103.84859</td>\n",
       "      <td>Entire home/apt</td>\n",
       "      <td>2083</td>\n",
       "      <td>4</td>\n",
       "      <td>0</td>\n",
       "      <td>Not Reviewed</td>\n",
       "      <td>0.00</td>\n",
       "      <td>1</td>\n",
       "      <td>0</td>\n",
       "    </tr>\n",
       "    <tr>\n",
       "      <th>2978</th>\n",
       "      <td>20791161</td>\n",
       "      <td>YOUR entire PRIVATE LUXURY PENTHOUSE condo unit</td>\n",
       "      <td>122991242</td>\n",
       "      <td>Jj</td>\n",
       "      <td>West Region</td>\n",
       "      <td>Tuas</td>\n",
       "      <td>1.31909</td>\n",
       "      <td>103.64656</td>\n",
       "      <td>Entire home/apt</td>\n",
       "      <td>10000</td>\n",
       "      <td>2</td>\n",
       "      <td>5</td>\n",
       "      <td>2017-10-31</td>\n",
       "      <td>0.21</td>\n",
       "      <td>1</td>\n",
       "      <td>89</td>\n",
       "    </tr>\n",
       "    <tr>\n",
       "      <th>3182</th>\n",
       "      <td>21451655</td>\n",
       "      <td>The Club Residences by Capella - 2 Bedroom Sui...</td>\n",
       "      <td>84411185</td>\n",
       "      <td>Darren</td>\n",
       "      <td>Central Region</td>\n",
       "      <td>Southern Islands</td>\n",
       "      <td>1.25046</td>\n",
       "      <td>103.82529</td>\n",
       "      <td>Entire home/apt</td>\n",
       "      <td>1294</td>\n",
       "      <td>3</td>\n",
       "      <td>1</td>\n",
       "      <td>2018-11-21</td>\n",
       "      <td>0.11</td>\n",
       "      <td>6</td>\n",
       "      <td>176</td>\n",
       "    </tr>\n",
       "    <tr>\n",
       "      <th>3485</th>\n",
       "      <td>22617828</td>\n",
       "      <td>The Club Residences - Contemporary Manor (A)</td>\n",
       "      <td>84411185</td>\n",
       "      <td>Darren</td>\n",
       "      <td>Central Region</td>\n",
       "      <td>Southern Islands</td>\n",
       "      <td>1.25054</td>\n",
       "      <td>103.82551</td>\n",
       "      <td>Entire home/apt</td>\n",
       "      <td>8900</td>\n",
       "      <td>2</td>\n",
       "      <td>0</td>\n",
       "      <td>Not Reviewed</td>\n",
       "      <td>0.00</td>\n",
       "      <td>6</td>\n",
       "      <td>0</td>\n",
       "    </tr>\n",
       "    <tr>\n",
       "      <th>3658</th>\n",
       "      <td>23412538</td>\n",
       "      <td>新加坡Labrador Park  only rent for more than 6 mo...</td>\n",
       "      <td>155208893</td>\n",
       "      <td>皓婷</td>\n",
       "      <td>Central Region</td>\n",
       "      <td>Bukit Merah</td>\n",
       "      <td>1.28149</td>\n",
       "      <td>103.80889</td>\n",
       "      <td>Private room</td>\n",
       "      <td>1300</td>\n",
       "      <td>1</td>\n",
       "      <td>0</td>\n",
       "      <td>Not Reviewed</td>\n",
       "      <td>0.00</td>\n",
       "      <td>1</td>\n",
       "      <td>0</td>\n",
       "    </tr>\n",
       "    <tr>\n",
       "      <th>4268</th>\n",
       "      <td>26429896</td>\n",
       "      <td>私人公寓,独栋</td>\n",
       "      <td>159804766</td>\n",
       "      <td>Xiaoyu</td>\n",
       "      <td>Central Region</td>\n",
       "      <td>Geylang</td>\n",
       "      <td>1.31107</td>\n",
       "      <td>103.87686</td>\n",
       "      <td>Entire home/apt</td>\n",
       "      <td>1200</td>\n",
       "      <td>2</td>\n",
       "      <td>0</td>\n",
       "      <td>Not Reviewed</td>\n",
       "      <td>0.00</td>\n",
       "      <td>79</td>\n",
       "      <td>365</td>\n",
       "    </tr>\n",
       "    <tr>\n",
       "      <th>4399</th>\n",
       "      <td>27115768</td>\n",
       "      <td>Hotel style master bedroom</td>\n",
       "      <td>188629774</td>\n",
       "      <td>Jo</td>\n",
       "      <td>Central Region</td>\n",
       "      <td>Kallang</td>\n",
       "      <td>1.30004</td>\n",
       "      <td>103.85992</td>\n",
       "      <td>Private room</td>\n",
       "      <td>6000</td>\n",
       "      <td>1</td>\n",
       "      <td>0</td>\n",
       "      <td>Not Reviewed</td>\n",
       "      <td>0.00</td>\n",
       "      <td>1</td>\n",
       "      <td>0</td>\n",
       "    </tr>\n",
       "    <tr>\n",
       "      <th>5068</th>\n",
       "      <td>29454824</td>\n",
       "      <td>Ocean suite</td>\n",
       "      <td>31727752</td>\n",
       "      <td>Jing</td>\n",
       "      <td>Central Region</td>\n",
       "      <td>Southern Islands</td>\n",
       "      <td>1.25602</td>\n",
       "      <td>103.82100</td>\n",
       "      <td>Private room</td>\n",
       "      <td>1360</td>\n",
       "      <td>1</td>\n",
       "      <td>0</td>\n",
       "      <td>Not Reviewed</td>\n",
       "      <td>0.00</td>\n",
       "      <td>2</td>\n",
       "      <td>90</td>\n",
       "    </tr>\n",
       "    <tr>\n",
       "      <th>5119</th>\n",
       "      <td>29545454</td>\n",
       "      <td>1-bedroom luxury 20th floor penthouse+BBQ Terrace</td>\n",
       "      <td>800558</td>\n",
       "      <td>Kim (金)</td>\n",
       "      <td>Central Region</td>\n",
       "      <td>Rochor</td>\n",
       "      <td>1.31209</td>\n",
       "      <td>103.85357</td>\n",
       "      <td>Entire home/apt</td>\n",
       "      <td>1124</td>\n",
       "      <td>2</td>\n",
       "      <td>0</td>\n",
       "      <td>Not Reviewed</td>\n",
       "      <td>0.00</td>\n",
       "      <td>6</td>\n",
       "      <td>364</td>\n",
       "    </tr>\n",
       "    <tr>\n",
       "      <th>5120</th>\n",
       "      <td>29546144</td>\n",
       "      <td>2-bedroom luxury 20th floor penthouse+BBQ Terrace</td>\n",
       "      <td>800558</td>\n",
       "      <td>Kim (金)</td>\n",
       "      <td>Central Region</td>\n",
       "      <td>Rochor</td>\n",
       "      <td>1.31180</td>\n",
       "      <td>103.85362</td>\n",
       "      <td>Entire home/apt</td>\n",
       "      <td>1481</td>\n",
       "      <td>2</td>\n",
       "      <td>0</td>\n",
       "      <td>Not Reviewed</td>\n",
       "      <td>0.00</td>\n",
       "      <td>6</td>\n",
       "      <td>364</td>\n",
       "    </tr>\n",
       "    <tr>\n",
       "      <th>5121</th>\n",
       "      <td>29547507</td>\n",
       "      <td>2-bedroom luxury 20th floor penthouse+BBQ Terr...</td>\n",
       "      <td>800558</td>\n",
       "      <td>Kim (金)</td>\n",
       "      <td>Central Region</td>\n",
       "      <td>Rochor</td>\n",
       "      <td>1.31164</td>\n",
       "      <td>103.85336</td>\n",
       "      <td>Entire home/apt</td>\n",
       "      <td>1481</td>\n",
       "      <td>2</td>\n",
       "      <td>0</td>\n",
       "      <td>Not Reviewed</td>\n",
       "      <td>0.00</td>\n",
       "      <td>6</td>\n",
       "      <td>364</td>\n",
       "    </tr>\n",
       "    <tr>\n",
       "      <th>5123</th>\n",
       "      <td>29548473</td>\n",
       "      <td>2-bedroom luxury penthouse - 2 Jacuzzi's BBQ deck</td>\n",
       "      <td>800558</td>\n",
       "      <td>Kim (金)</td>\n",
       "      <td>Central Region</td>\n",
       "      <td>Rochor</td>\n",
       "      <td>1.31196</td>\n",
       "      <td>103.85523</td>\n",
       "      <td>Entire home/apt</td>\n",
       "      <td>2697</td>\n",
       "      <td>2</td>\n",
       "      <td>0</td>\n",
       "      <td>Not Reviewed</td>\n",
       "      <td>0.00</td>\n",
       "      <td>6</td>\n",
       "      <td>364</td>\n",
       "    </tr>\n",
       "    <tr>\n",
       "      <th>5125</th>\n",
       "      <td>29549880</td>\n",
       "      <td>2-bedroom luxury penthouse + Jacuzzi + BBQ deck</td>\n",
       "      <td>800558</td>\n",
       "      <td>Kim (金)</td>\n",
       "      <td>Central Region</td>\n",
       "      <td>Rochor</td>\n",
       "      <td>1.31313</td>\n",
       "      <td>103.85394</td>\n",
       "      <td>Entire home/apt</td>\n",
       "      <td>4162</td>\n",
       "      <td>2</td>\n",
       "      <td>0</td>\n",
       "      <td>Not Reviewed</td>\n",
       "      <td>0.00</td>\n",
       "      <td>6</td>\n",
       "      <td>364</td>\n",
       "    </tr>\n",
       "    <tr>\n",
       "      <th>5626</th>\n",
       "      <td>31294757</td>\n",
       "      <td>U</td>\n",
       "      <td>223613336</td>\n",
       "      <td>Wrong</td>\n",
       "      <td>Central Region</td>\n",
       "      <td>Downtown Core</td>\n",
       "      <td>1.29479</td>\n",
       "      <td>103.85256</td>\n",
       "      <td>Entire home/apt</td>\n",
       "      <td>1456</td>\n",
       "      <td>35</td>\n",
       "      <td>0</td>\n",
       "      <td>Not Reviewed</td>\n",
       "      <td>0.00</td>\n",
       "      <td>1</td>\n",
       "      <td>89</td>\n",
       "    </tr>\n",
       "    <tr>\n",
       "      <th>5700</th>\n",
       "      <td>31476831</td>\n",
       "      <td>Feb to Jul short term rental in sg, close to Mrt</td>\n",
       "      <td>235817515</td>\n",
       "      <td>Rachel</td>\n",
       "      <td>Central Region</td>\n",
       "      <td>Bukit Timah</td>\n",
       "      <td>1.33757</td>\n",
       "      <td>103.77967</td>\n",
       "      <td>Entire home/apt</td>\n",
       "      <td>3200</td>\n",
       "      <td>150</td>\n",
       "      <td>0</td>\n",
       "      <td>Not Reviewed</td>\n",
       "      <td>0.00</td>\n",
       "      <td>1</td>\n",
       "      <td>0</td>\n",
       "    </tr>\n",
       "    <tr>\n",
       "      <th>5734</th>\n",
       "      <td>31604616</td>\n",
       "      <td>2-BR SUITE AT SENTOSA, SINGAPORE</td>\n",
       "      <td>138649185</td>\n",
       "      <td>Paridhi</td>\n",
       "      <td>Central Region</td>\n",
       "      <td>Southern Islands</td>\n",
       "      <td>1.25088</td>\n",
       "      <td>103.82482</td>\n",
       "      <td>Entire home/apt</td>\n",
       "      <td>1830</td>\n",
       "      <td>1</td>\n",
       "      <td>0</td>\n",
       "      <td>Not Reviewed</td>\n",
       "      <td>0.00</td>\n",
       "      <td>76</td>\n",
       "      <td>364</td>\n",
       "    </tr>\n",
       "    <tr>\n",
       "      <th>5823</th>\n",
       "      <td>32026675</td>\n",
       "      <td>Testing</td>\n",
       "      <td>20307016</td>\n",
       "      <td>David</td>\n",
       "      <td>Central Region</td>\n",
       "      <td>Kallang</td>\n",
       "      <td>1.29610</td>\n",
       "      <td>103.86613</td>\n",
       "      <td>Private room</td>\n",
       "      <td>10000</td>\n",
       "      <td>1</td>\n",
       "      <td>0</td>\n",
       "      <td>Not Reviewed</td>\n",
       "      <td>0.00</td>\n",
       "      <td>1</td>\n",
       "      <td>0</td>\n",
       "    </tr>\n",
       "    <tr>\n",
       "      <th>6069</th>\n",
       "      <td>32736217</td>\n",
       "      <td>Family Room for 4 persons $150 per room per ni...</td>\n",
       "      <td>41059478</td>\n",
       "      <td>Andrew</td>\n",
       "      <td>Central Region</td>\n",
       "      <td>Outram</td>\n",
       "      <td>1.28551</td>\n",
       "      <td>103.84112</td>\n",
       "      <td>Shared room</td>\n",
       "      <td>2500</td>\n",
       "      <td>3</td>\n",
       "      <td>0</td>\n",
       "      <td>Not Reviewed</td>\n",
       "      <td>0.00</td>\n",
       "      <td>5</td>\n",
       "      <td>5</td>\n",
       "    </tr>\n",
       "    <tr>\n",
       "      <th>6127</th>\n",
       "      <td>32909422</td>\n",
       "      <td>短租3个月 高级公寓</td>\n",
       "      <td>242184427</td>\n",
       "      <td>颖</td>\n",
       "      <td>Central Region</td>\n",
       "      <td>Kallang</td>\n",
       "      <td>1.31202</td>\n",
       "      <td>103.85617</td>\n",
       "      <td>Private room</td>\n",
       "      <td>3300</td>\n",
       "      <td>60</td>\n",
       "      <td>0</td>\n",
       "      <td>Not Reviewed</td>\n",
       "      <td>0.00</td>\n",
       "      <td>1</td>\n",
       "      <td>0</td>\n",
       "    </tr>\n",
       "    <tr>\n",
       "      <th>6387</th>\n",
       "      <td>33601064</td>\n",
       "      <td>Staycation on Yacht\\nPer night $ (Phone number...</td>\n",
       "      <td>253196803</td>\n",
       "      <td>Carol</td>\n",
       "      <td>Central Region</td>\n",
       "      <td>Southern Islands</td>\n",
       "      <td>1.24627</td>\n",
       "      <td>103.84063</td>\n",
       "      <td>Entire home/apt</td>\n",
       "      <td>1200</td>\n",
       "      <td>1</td>\n",
       "      <td>0</td>\n",
       "      <td>Not Reviewed</td>\n",
       "      <td>0.00</td>\n",
       "      <td>1</td>\n",
       "      <td>362</td>\n",
       "    </tr>\n",
       "    <tr>\n",
       "      <th>7071</th>\n",
       "      <td>35483325</td>\n",
       "      <td>GIANT 2 BR WITH BALCONY, BEACH ROAD SINGAPORE</td>\n",
       "      <td>238891646</td>\n",
       "      <td>Neha</td>\n",
       "      <td>Central Region</td>\n",
       "      <td>Kallang</td>\n",
       "      <td>1.29891</td>\n",
       "      <td>103.86099</td>\n",
       "      <td>Entire home/apt</td>\n",
       "      <td>1100</td>\n",
       "      <td>6</td>\n",
       "      <td>0</td>\n",
       "      <td>Not Reviewed</td>\n",
       "      <td>0.00</td>\n",
       "      <td>34</td>\n",
       "      <td>364</td>\n",
       "    </tr>\n",
       "    <tr>\n",
       "      <th>7408</th>\n",
       "      <td>36652759</td>\n",
       "      <td>[Rare] CORNER TERRACE UP FOR Rent (Whole unit)</td>\n",
       "      <td>5654051</td>\n",
       "      <td>Jonathan</td>\n",
       "      <td>East Region</td>\n",
       "      <td>Bedok</td>\n",
       "      <td>1.30947</td>\n",
       "      <td>103.92176</td>\n",
       "      <td>Entire home/apt</td>\n",
       "      <td>5000</td>\n",
       "      <td>365</td>\n",
       "      <td>0</td>\n",
       "      <td>Not Reviewed</td>\n",
       "      <td>0.00</td>\n",
       "      <td>1</td>\n",
       "      <td>365</td>\n",
       "    </tr>\n",
       "    <tr>\n",
       "      <th>7485</th>\n",
       "      <td>36915026</td>\n",
       "      <td>Love</td>\n",
       "      <td>106682987</td>\n",
       "      <td>Lily</td>\n",
       "      <td>West Region</td>\n",
       "      <td>Bukit Batok</td>\n",
       "      <td>1.35647</td>\n",
       "      <td>103.76084</td>\n",
       "      <td>Entire home/apt</td>\n",
       "      <td>6944</td>\n",
       "      <td>1</td>\n",
       "      <td>0</td>\n",
       "      <td>Not Reviewed</td>\n",
       "      <td>0.00</td>\n",
       "      <td>1</td>\n",
       "      <td>179</td>\n",
       "    </tr>\n",
       "    <tr>\n",
       "      <th>7619</th>\n",
       "      <td>37373341</td>\n",
       "      <td>Downtown 5-bedroom apartment</td>\n",
       "      <td>189326474</td>\n",
       "      <td>Kiwi Sg Home</td>\n",
       "      <td>Central Region</td>\n",
       "      <td>Kallang</td>\n",
       "      <td>1.30332</td>\n",
       "      <td>103.86126</td>\n",
       "      <td>Entire home/apt</td>\n",
       "      <td>1387</td>\n",
       "      <td>18</td>\n",
       "      <td>0</td>\n",
       "      <td>Not Reviewed</td>\n",
       "      <td>0.00</td>\n",
       "      <td>10</td>\n",
       "      <td>167</td>\n",
       "    </tr>\n",
       "    <tr>\n",
       "      <th>7733</th>\n",
       "      <td>37732425</td>\n",
       "      <td>Entire hotel with 15 rooms for 35-40 paxes!</td>\n",
       "      <td>119613097</td>\n",
       "      <td>Su Moy</td>\n",
       "      <td>Central Region</td>\n",
       "      <td>Rochor</td>\n",
       "      <td>1.30824</td>\n",
       "      <td>103.85492</td>\n",
       "      <td>Entire home/apt</td>\n",
       "      <td>1500</td>\n",
       "      <td>1</td>\n",
       "      <td>0</td>\n",
       "      <td>Not Reviewed</td>\n",
       "      <td>0.00</td>\n",
       "      <td>27</td>\n",
       "      <td>365</td>\n",
       "    </tr>\n",
       "    <tr>\n",
       "      <th>7844</th>\n",
       "      <td>38000757</td>\n",
       "      <td>Airbnb</td>\n",
       "      <td>287995222</td>\n",
       "      <td>A@Zml</td>\n",
       "      <td>Central Region</td>\n",
       "      <td>Singapore River</td>\n",
       "      <td>1.28925</td>\n",
       "      <td>103.84678</td>\n",
       "      <td>Entire home/apt</td>\n",
       "      <td>1481</td>\n",
       "      <td>1</td>\n",
       "      <td>0</td>\n",
       "      <td>Not Reviewed</td>\n",
       "      <td>0.00</td>\n",
       "      <td>1</td>\n",
       "      <td>176</td>\n",
       "    </tr>\n",
       "  </tbody>\n",
       "</table>\n",
       "</div>"
      ],
      "text/plain": [
       "            id                                               name    host_id  \\\n",
       "38      804470                   Spacious Luxury Condo in Orchard     741873   \n",
       "160    2566687                          Room in the NW part of SG    4332365   \n",
       "466    5807596                          Small Cozy Masterbed room   30132726   \n",
       "601    6790378               Near Orchard Single Room-Female Only   29444441   \n",
       "610    6837947                                      Flat for Rent   35833085   \n",
       "922    8742389                 Full furniture and nice enviroment   45863208   \n",
       "949    8957125                  Red Hill HDB 出租 近地铁站 楼下有两个食阁 交通方便   46814375   \n",
       "1119   9958663                            Master Bedroom for RENT   35263906   \n",
       "1183  10343562                City 1 + 1 Bedroom Studio Apartment   53235451   \n",
       "1319  11544732                                                  P   60916030   \n",
       "1412  12097789  Capella The Club Residences Singapore - 2 BR S...    9938906   \n",
       "1475  12583148                  geylang 14 主人房 master room1300sgd   48377803   \n",
       "1791  14620083  Capella The Club Residences Singapore - 3 BR S...    9938906   \n",
       "2033  16155549   common room (3 minutes walking from MRT station)   91481229   \n",
       "2100  16395877           The Club Residences - Contemporary Manor   84411185   \n",
       "2392  17831833                 Comfortable & Quiet Master Bedroom   68223771   \n",
       "2667  19218794  Renovated Master Bedroom & own bathroom@East C...   36416351   \n",
       "2764  19739630            Lakeside Master room of condo 裕廊湖畔公寓主人房  139204582   \n",
       "2813  19986946                                                旅行家   34732327   \n",
       "2967  20754671                           F1 weekend in Singapore.   96721693   \n",
       "2978  20791161    YOUR entire PRIVATE LUXURY PENTHOUSE condo unit  122991242   \n",
       "3182  21451655  The Club Residences by Capella - 2 Bedroom Sui...   84411185   \n",
       "3485  22617828       The Club Residences - Contemporary Manor (A)   84411185   \n",
       "3658  23412538  新加坡Labrador Park  only rent for more than 6 mo...  155208893   \n",
       "4268  26429896                                            私人公寓,独栋  159804766   \n",
       "4399  27115768                         Hotel style master bedroom  188629774   \n",
       "5068  29454824                                        Ocean suite   31727752   \n",
       "5119  29545454  1-bedroom luxury 20th floor penthouse+BBQ Terrace     800558   \n",
       "5120  29546144  2-bedroom luxury 20th floor penthouse+BBQ Terrace     800558   \n",
       "5121  29547507  2-bedroom luxury 20th floor penthouse+BBQ Terr...     800558   \n",
       "5123  29548473  2-bedroom luxury penthouse - 2 Jacuzzi's BBQ deck     800558   \n",
       "5125  29549880    2-bedroom luxury penthouse + Jacuzzi + BBQ deck     800558   \n",
       "5626  31294757                                                  U  223613336   \n",
       "5700  31476831   Feb to Jul short term rental in sg, close to Mrt  235817515   \n",
       "5734  31604616                   2-BR SUITE AT SENTOSA, SINGAPORE  138649185   \n",
       "5823  32026675                                            Testing   20307016   \n",
       "6069  32736217  Family Room for 4 persons $150 per room per ni...   41059478   \n",
       "6127  32909422                                         短租3个月 高级公寓  242184427   \n",
       "6387  33601064  Staycation on Yacht\\nPer night $ (Phone number...  253196803   \n",
       "7071  35483325      GIANT 2 BR WITH BALCONY, BEACH ROAD SINGAPORE  238891646   \n",
       "7408  36652759     [Rare] CORNER TERRACE UP FOR Rent (Whole unit)    5654051   \n",
       "7485  36915026                                               Love  106682987   \n",
       "7619  37373341                       Downtown 5-bedroom apartment  189326474   \n",
       "7733  37732425        Entire hotel with 15 rooms for 35-40 paxes!  119613097   \n",
       "7844  38000757                                             Airbnb  287995222   \n",
       "\n",
       "                    host_name neighbourhood_group     neighbourhood  latitude  \\\n",
       "38                       Dara      Central Region           Tanglin   1.30292   \n",
       "160                   Kenneth         West Region     Choa Chu Kang   1.39245   \n",
       "466                        Ho      Central Region       Bukit Merah   1.27513   \n",
       "601                    JYidea      Central Region            Novena   1.31564   \n",
       "610                  Benedict   North-East Region           Hougang   1.37877   \n",
       "922                      Sean      Central Region            Bishan   1.36486   \n",
       "949                    Victor      Central Region       Bukit Merah   1.28733   \n",
       "1119                   Jerome      Central Region            Bishan   1.36412   \n",
       "1183                      Ian      Central Region            Rochor   1.29943   \n",
       "1319                      Yin      Central Region            Outram   1.28348   \n",
       "1412  Capella Club Residences      Central Region  Southern Islands   1.25040   \n",
       "1475                       子隆      Central Region           Geylang   1.31380   \n",
       "1791  Capella Club Residences      Central Region  Southern Islands   1.24918   \n",
       "2033                      Lin      Central Region         Toa Payoh   1.33342   \n",
       "2100                   Darren      Central Region  Southern Islands   1.25284   \n",
       "2392                  Yolivia         West Region     Bukit Panjang   1.34775   \n",
       "2667                      Min         East Region             Bedok   1.30763   \n",
       "2764                    X-Roy         West Region       Jurong East   1.33633   \n",
       "2813                      Xia         East Region             Bedok   1.32184   \n",
       "2967                    Zsolt      Central Region           Kallang   1.31404   \n",
       "2978                       Jj         West Region              Tuas   1.31909   \n",
       "3182                   Darren      Central Region  Southern Islands   1.25046   \n",
       "3485                   Darren      Central Region  Southern Islands   1.25054   \n",
       "3658                       皓婷      Central Region       Bukit Merah   1.28149   \n",
       "4268                   Xiaoyu      Central Region           Geylang   1.31107   \n",
       "4399                       Jo      Central Region           Kallang   1.30004   \n",
       "5068                     Jing      Central Region  Southern Islands   1.25602   \n",
       "5119                  Kim (金)      Central Region            Rochor   1.31209   \n",
       "5120                  Kim (金)      Central Region            Rochor   1.31180   \n",
       "5121                  Kim (金)      Central Region            Rochor   1.31164   \n",
       "5123                  Kim (金)      Central Region            Rochor   1.31196   \n",
       "5125                  Kim (金)      Central Region            Rochor   1.31313   \n",
       "5626                    Wrong      Central Region     Downtown Core   1.29479   \n",
       "5700                   Rachel      Central Region       Bukit Timah   1.33757   \n",
       "5734                  Paridhi      Central Region  Southern Islands   1.25088   \n",
       "5823                    David      Central Region           Kallang   1.29610   \n",
       "6069                   Andrew      Central Region            Outram   1.28551   \n",
       "6127                        颖      Central Region           Kallang   1.31202   \n",
       "6387                    Carol      Central Region  Southern Islands   1.24627   \n",
       "7071                     Neha      Central Region           Kallang   1.29891   \n",
       "7408                 Jonathan         East Region             Bedok   1.30947   \n",
       "7485                     Lily         West Region       Bukit Batok   1.35647   \n",
       "7619             Kiwi Sg Home      Central Region           Kallang   1.30332   \n",
       "7733                   Su Moy      Central Region            Rochor   1.30824   \n",
       "7844                    A@Zml      Central Region   Singapore River   1.28925   \n",
       "\n",
       "      longitude        room_type  price  minimum_nights  number_of_reviews  \\\n",
       "38    103.82253  Entire home/apt   2604               1                  1   \n",
       "160   103.75270     Private room   1200              13                  0   \n",
       "466   103.81075     Private room   2000               1                  0   \n",
       "601   103.84075     Private room   1800               1                  0   \n",
       "610   103.88950  Entire home/apt   2300             365                  0   \n",
       "922   103.83297      Shared room   1100               1                  0   \n",
       "949   103.81630     Private room   1019               1                  0   \n",
       "1119  103.83146     Private room   1350               1                  0   \n",
       "1183  103.85177  Entire home/apt   3500             365                  0   \n",
       "1319  103.84135     Private room   7000               2                  5   \n",
       "1412  103.82539  Entire home/apt   1294               3                  1   \n",
       "1475  103.88099     Private room   1300               1                  0   \n",
       "1791  103.82509  Entire home/apt   2943               1                  3   \n",
       "2033  103.84897     Private room   4000               3                  0   \n",
       "2100  103.82225  Entire home/apt   8900               2                  0   \n",
       "2392  103.77181     Private room  10000               1                  1   \n",
       "2667  103.91451     Private room   3000              90                 33   \n",
       "2764  103.72569     Private room   7000               2                  0   \n",
       "2813  103.93501     Private room   5000               3                  0   \n",
       "2967  103.84859  Entire home/apt   2083               4                  0   \n",
       "2978  103.64656  Entire home/apt  10000               2                  5   \n",
       "3182  103.82529  Entire home/apt   1294               3                  1   \n",
       "3485  103.82551  Entire home/apt   8900               2                  0   \n",
       "3658  103.80889     Private room   1300               1                  0   \n",
       "4268  103.87686  Entire home/apt   1200               2                  0   \n",
       "4399  103.85992     Private room   6000               1                  0   \n",
       "5068  103.82100     Private room   1360               1                  0   \n",
       "5119  103.85357  Entire home/apt   1124               2                  0   \n",
       "5120  103.85362  Entire home/apt   1481               2                  0   \n",
       "5121  103.85336  Entire home/apt   1481               2                  0   \n",
       "5123  103.85523  Entire home/apt   2697               2                  0   \n",
       "5125  103.85394  Entire home/apt   4162               2                  0   \n",
       "5626  103.85256  Entire home/apt   1456              35                  0   \n",
       "5700  103.77967  Entire home/apt   3200             150                  0   \n",
       "5734  103.82482  Entire home/apt   1830               1                  0   \n",
       "5823  103.86613     Private room  10000               1                  0   \n",
       "6069  103.84112      Shared room   2500               3                  0   \n",
       "6127  103.85617     Private room   3300              60                  0   \n",
       "6387  103.84063  Entire home/apt   1200               1                  0   \n",
       "7071  103.86099  Entire home/apt   1100               6                  0   \n",
       "7408  103.92176  Entire home/apt   5000             365                  0   \n",
       "7485  103.76084  Entire home/apt   6944               1                  0   \n",
       "7619  103.86126  Entire home/apt   1387              18                  0   \n",
       "7733  103.85492  Entire home/apt   1500               1                  0   \n",
       "7844  103.84678  Entire home/apt   1481               1                  0   \n",
       "\n",
       "       last_review  reviews_per_month  calculated_host_listings_count  \\\n",
       "38      2014-02-22               0.01                               1   \n",
       "160   Not Reviewed               0.00                               1   \n",
       "466   Not Reviewed               0.00                               1   \n",
       "601   Not Reviewed               0.00                               1   \n",
       "610   Not Reviewed               0.00                               1   \n",
       "922   Not Reviewed               0.00                               1   \n",
       "949   Not Reviewed               0.00                               1   \n",
       "1119  Not Reviewed               0.00                               1   \n",
       "1183  Not Reviewed               0.00                               1   \n",
       "1319    2017-12-12               0.18                               1   \n",
       "1412    2016-08-25               0.03                               3   \n",
       "1475  Not Reviewed               0.00                               1   \n",
       "1791    2019-02-13               0.21                               3   \n",
       "2033  Not Reviewed               0.00                               1   \n",
       "2100  Not Reviewed               0.00                               6   \n",
       "2392    2017-05-27               0.04                               1   \n",
       "2667    2018-03-31               1.25                               1   \n",
       "2764  Not Reviewed               0.00                               1   \n",
       "2813  Not Reviewed               0.00                               1   \n",
       "2967  Not Reviewed               0.00                               1   \n",
       "2978    2017-10-31               0.21                               1   \n",
       "3182    2018-11-21               0.11                               6   \n",
       "3485  Not Reviewed               0.00                               6   \n",
       "3658  Not Reviewed               0.00                               1   \n",
       "4268  Not Reviewed               0.00                              79   \n",
       "4399  Not Reviewed               0.00                               1   \n",
       "5068  Not Reviewed               0.00                               2   \n",
       "5119  Not Reviewed               0.00                               6   \n",
       "5120  Not Reviewed               0.00                               6   \n",
       "5121  Not Reviewed               0.00                               6   \n",
       "5123  Not Reviewed               0.00                               6   \n",
       "5125  Not Reviewed               0.00                               6   \n",
       "5626  Not Reviewed               0.00                               1   \n",
       "5700  Not Reviewed               0.00                               1   \n",
       "5734  Not Reviewed               0.00                              76   \n",
       "5823  Not Reviewed               0.00                               1   \n",
       "6069  Not Reviewed               0.00                               5   \n",
       "6127  Not Reviewed               0.00                               1   \n",
       "6387  Not Reviewed               0.00                               1   \n",
       "7071  Not Reviewed               0.00                              34   \n",
       "7408  Not Reviewed               0.00                               1   \n",
       "7485  Not Reviewed               0.00                               1   \n",
       "7619  Not Reviewed               0.00                              10   \n",
       "7733  Not Reviewed               0.00                              27   \n",
       "7844  Not Reviewed               0.00                               1   \n",
       "\n",
       "      availability_365  \n",
       "38                   0  \n",
       "160                365  \n",
       "466                  0  \n",
       "601                 83  \n",
       "610                365  \n",
       "922                 90  \n",
       "949                365  \n",
       "1119                 0  \n",
       "1183                 0  \n",
       "1319               365  \n",
       "1412               155  \n",
       "1475               365  \n",
       "1791                92  \n",
       "2033               180  \n",
       "2100               361  \n",
       "2392                 0  \n",
       "2667                90  \n",
       "2764                 0  \n",
       "2813                79  \n",
       "2967                 0  \n",
       "2978                89  \n",
       "3182               176  \n",
       "3485                 0  \n",
       "3658                 0  \n",
       "4268               365  \n",
       "4399                 0  \n",
       "5068                90  \n",
       "5119               364  \n",
       "5120               364  \n",
       "5121               364  \n",
       "5123               364  \n",
       "5125               364  \n",
       "5626                89  \n",
       "5700                 0  \n",
       "5734               364  \n",
       "5823                 0  \n",
       "6069                 5  \n",
       "6127                 0  \n",
       "6387               362  \n",
       "7071               364  \n",
       "7408               365  \n",
       "7485               179  \n",
       "7619               167  \n",
       "7733               365  \n",
       "7844               176  "
      ]
     },
     "execution_count": 12,
     "metadata": {},
     "output_type": "execute_result"
    }
   ],
   "source": [
    "#Let's check the opposite. How many listings have price over $1000?\n",
    "dataset[dataset[\"price\"]>1000]"
   ]
  },
  {
   "cell_type": "markdown",
   "metadata": {},
   "source": [
    "7859 listings have a price per day of under 1000 (99%) with the remaining 1% (48 listings) having a price of over a thousand. These exorbitant pricing are either a result of lavish housing accomodations or potential errors during a data input. These listings are a combination of private rooms and entire homes/apartments. Since these listings are skewing our results, they will be treated as outliers and removed for future analysis."
   ]
  },
  {
   "cell_type": "code",
   "execution_count": 13,
   "metadata": {},
   "outputs": [
    {
     "data": {
      "text/plain": [
       "count    7115.000000\n",
       "mean      122.075053\n",
       "std        70.351533\n",
       "min         0.000000\n",
       "25%        60.000000\n",
       "50%       110.000000\n",
       "75%       168.000000\n",
       "max       299.000000\n",
       "Name: price, dtype: float64"
      ]
     },
     "execution_count": 13,
     "metadata": {},
     "output_type": "execute_result"
    }
   ],
   "source": [
    "#Setting 300 as the threshold price, let's exclude the outliers\n",
    "\n",
    "dataset = dataset[dataset[\"price\"]<300]\n",
    "dataset[\"price\"].describe()"
   ]
  },
  {
   "cell_type": "code",
   "execution_count": 14,
   "metadata": {},
   "outputs": [
    {
     "data": {
      "image/png": "[encoded data removed]",
      "text/plain": [
       "<Figure size 432x288 with 1 Axes>"
      ]
     },
     "metadata": {
      "needs_background": "light"
     },
     "output_type": "display_data"
    }
   ],
   "source": [
    "#The range from 0-300 shows a typical gaussian distribution\n",
    "\n",
    "dataset = dataset[dataset[\"price\"]<1000]\n",
    "hist_price1 = dataset[\"price\"][dataset[\"price\"]<300].hist()\n",
    "plt.xlabel('Price')\n",
    "plt.ylabel('Number of Listings')\n",
    "plt.title('Airbnb SG Price by Number of Listings')\n",
    "plt.show()\n"
   ]
  },
  {
   "cell_type": "markdown",
   "metadata": {},
   "source": [
    "As expected by setting a lower constraint to 0-300, the average price per day has decreased from 169 to 122.  \n",
    "With this threshold, most listings are within the price range of 60-168.\n"
   ]
  },
  {
   "cell_type": "markdown",
   "metadata": {},
   "source": [
    "#### Neighbourhood Groups/Regions"
   ]
  },
  {
   "cell_type": "markdown",
   "metadata": {},
   "source": [
    "Now that price has been looked into, how does neighbourhood groups come into play?    \n",
    "      Let's consider these questions:   \n",
    "Which regions have the most listings?   \n",
    "Which regions have the lowest average price?   \n",
    "How about the highest average price?    \n",
    "How does the distribution by neighbourhood group and room type look?   \n",
    "\n"
   ]
  },
  {
   "cell_type": "code",
   "execution_count": 15,
   "metadata": {},
   "outputs": [
    {
     "data": {
      "text/plain": [
       "Central Region       5609\n",
       "West Region           497\n",
       "East Region           485\n",
       "North-East Region     332\n",
       "North Region          192\n",
       "Name: neighbourhood_group, dtype: int64"
      ]
     },
     "execution_count": 15,
     "metadata": {},
     "output_type": "execute_result"
    }
   ],
   "source": [
    "#Which neigbhourhood_groups are most listings located in?\n",
    "\n",
    "dataset['neighbourhood_group'].value_counts()"
   ]
  },
  {
   "cell_type": "markdown",
   "metadata": {},
   "source": [
    "78% of listings are located in the Central Region of Singapore.   \n",
    "7% of listings are located in the West Region of Singapore.   \n",
    "7% of listings are located in the East Region of Singapore.    \n",
    "5% of listings are located in the North-East Region of Singapore.    \n",
    "3% of listings are located in the North Region of Singapore.  "
   ]
  },
  {
   "cell_type": "code",
   "execution_count": 16,
   "metadata": {},
   "outputs": [
    {
     "data": {
      "text/html": [
       "<div>\n",
       "<style scoped>\n",
       "    .dataframe tbody tr th:only-of-type {\n",
       "        vertical-align: middle;\n",
       "    }\n",
       "\n",
       "    .dataframe tbody tr th {\n",
       "        vertical-align: top;\n",
       "    }\n",
       "\n",
       "    .dataframe thead th {\n",
       "        text-align: right;\n",
       "    }\n",
       "</style>\n",
       "<table border=\"1\" class=\"dataframe\">\n",
       "  <thead>\n",
       "    <tr style=\"text-align: right;\">\n",
       "      <th></th>\n",
       "      <th>count</th>\n",
       "      <th>mean</th>\n",
       "      <th>std</th>\n",
       "      <th>min</th>\n",
       "      <th>25%</th>\n",
       "      <th>50%</th>\n",
       "      <th>75%</th>\n",
       "      <th>max</th>\n",
       "    </tr>\n",
       "    <tr>\n",
       "      <th>neighbourhood_group</th>\n",
       "      <th></th>\n",
       "      <th></th>\n",
       "      <th></th>\n",
       "      <th></th>\n",
       "      <th></th>\n",
       "      <th></th>\n",
       "      <th></th>\n",
       "      <th></th>\n",
       "    </tr>\n",
       "  </thead>\n",
       "  <tbody>\n",
       "    <tr>\n",
       "      <th>Central Region</th>\n",
       "      <td>5609.0</td>\n",
       "      <td>130.405776</td>\n",
       "      <td>70.850492</td>\n",
       "      <td>0.0</td>\n",
       "      <td>69.0</td>\n",
       "      <td>124.0</td>\n",
       "      <td>179.0</td>\n",
       "      <td>299.0</td>\n",
       "    </tr>\n",
       "    <tr>\n",
       "      <th>East Region</th>\n",
       "      <td>485.0</td>\n",
       "      <td>102.342268</td>\n",
       "      <td>56.733959</td>\n",
       "      <td>14.0</td>\n",
       "      <td>58.0</td>\n",
       "      <td>90.0</td>\n",
       "      <td>131.0</td>\n",
       "      <td>278.0</td>\n",
       "    </tr>\n",
       "    <tr>\n",
       "      <th>North Region</th>\n",
       "      <td>192.0</td>\n",
       "      <td>88.510417</td>\n",
       "      <td>62.903066</td>\n",
       "      <td>18.0</td>\n",
       "      <td>43.5</td>\n",
       "      <td>61.0</td>\n",
       "      <td>125.0</td>\n",
       "      <td>299.0</td>\n",
       "    </tr>\n",
       "    <tr>\n",
       "      <th>North-East Region</th>\n",
       "      <td>332.0</td>\n",
       "      <td>78.388554</td>\n",
       "      <td>50.463737</td>\n",
       "      <td>19.0</td>\n",
       "      <td>44.0</td>\n",
       "      <td>62.0</td>\n",
       "      <td>99.0</td>\n",
       "      <td>287.0</td>\n",
       "    </tr>\n",
       "    <tr>\n",
       "      <th>West Region</th>\n",
       "      <td>497.0</td>\n",
       "      <td>89.462777</td>\n",
       "      <td>62.627572</td>\n",
       "      <td>14.0</td>\n",
       "      <td>50.0</td>\n",
       "      <td>62.0</td>\n",
       "      <td>119.0</td>\n",
       "      <td>290.0</td>\n",
       "    </tr>\n",
       "  </tbody>\n",
       "</table>\n",
       "</div>"
      ],
      "text/plain": [
       "                      count        mean        std   min   25%    50%    75%  \\\n",
       "neighbourhood_group                                                            \n",
       "Central Region       5609.0  130.405776  70.850492   0.0  69.0  124.0  179.0   \n",
       "East Region           485.0  102.342268  56.733959  14.0  58.0   90.0  131.0   \n",
       "North Region          192.0   88.510417  62.903066  18.0  43.5   61.0  125.0   \n",
       "North-East Region     332.0   78.388554  50.463737  19.0  44.0   62.0   99.0   \n",
       "West Region           497.0   89.462777  62.627572  14.0  50.0   62.0  119.0   \n",
       "\n",
       "                       max  \n",
       "neighbourhood_group         \n",
       "Central Region       299.0  \n",
       "East Region          278.0  \n",
       "North Region         299.0  \n",
       "North-East Region    287.0  \n",
       "West Region          290.0  "
      ]
     },
     "execution_count": 16,
     "metadata": {},
     "output_type": "execute_result"
    }
   ],
   "source": [
    "#What's the average listing price by neighbourhood group?\n",
    "\n",
    "neighborhood_price = dataset.groupby(\"neighbourhood_group\")[\"price\"].describe()\n",
    "neighborhood_price"
   ]
  },
  {
   "cell_type": "markdown",
   "metadata": {},
   "source": [
    "The average price by neighbourhood group ranges from 78-130 a night.  \n",
    "We can see that Central Region is both the most popular region by listing and the most expensive region \n",
    "for rental with an average price of 130 a night.\n",
    "This could potentially be a result of the location. The central region is the main metropolitan region of Singapore\n",
    "and a premier destination spot for travelers. \n",
    "\n",
    "It's also interesting to note that the West Region is the second most popular region and the East Region is the third most populated region, but its average prices are flipped. This goes the same for the North-East Region and North Region. This shows that count of listings are not representative of its price and is contributed to other factors.\n",
    "\n",
    "\n",
    "\n"
   ]
  },
  {
   "cell_type": "code",
   "execution_count": 17,
   "metadata": {},
   "outputs": [
    {
     "data": {
      "text/plain": [
       "Text(0.5, 1, 'Neighbourhood Group & Price Distribution')"
      ]
     },
     "execution_count": 17,
     "metadata": {},
     "output_type": "execute_result"
    },
    {
     "data": {
      "image/png": "[encoded data removed]",
      "text/plain": [
       "<Figure size 692.5x288 with 1 Axes>"
      ]
     },
     "metadata": {
      "needs_background": "light"
     },
     "output_type": "display_data"
    }
   ],
   "source": [
    "#How does the distribution between price and neighbourhood group look by room type?\n",
    "\n",
    "chart = sns.catplot(\n",
    "        data=dataset,\n",
    "        x = \"neighbourhood_group\",\n",
    "        y = \"price\",\n",
    "        hue = \"room_type\",\n",
    "        kind = \"swarm\",\n",
    "        aspect = 2,\n",
    "        height = 4)\n",
    "plt.xticks(rotation = 90)\n",
    "plt.title(\"Neighbourhood Group & Price Distribution\")\n"
   ]
  },
  {
   "cell_type": "code",
   "execution_count": 18,
   "metadata": {},
   "outputs": [
    {
     "data": {
      "text/plain": [
       "Text(0.5, 1, 'Neighbourhood Group & Price Distribution')"
      ]
     },
     "execution_count": 18,
     "metadata": {},
     "output_type": "execute_result"
    },
    {
     "data": {
      "image/png": "[encoded data removed]",
      "text/plain": [
       "<Figure size 692.5x288 with 1 Axes>"
      ]
     },
     "metadata": {
      "needs_background": "light"
     },
     "output_type": "display_data"
    }
   ],
   "source": [
    "chart = sns.catplot(\n",
    "        data=dataset,\n",
    "        x = \"neighbourhood_group\",\n",
    "        y = \"price\",\n",
    "        hue = \"room_type\",\n",
    "        kind = \"box\",\n",
    "        aspect = 2,\n",
    "        height = 4)\n",
    "plt.xticks(rotation = 90)\n",
    "plt.title(\"Neighbourhood Group & Price Distribution\")\n"
   ]
  },
  {
   "cell_type": "markdown",
   "metadata": {},
   "source": [
    "From the previous two distributions, we can clearly see that the central region contains most of the listings in Airbnb SG. We can also see the outliers between the different regions, with most outliers being in private rooms.\n",
    "\n",
    "Most listings with price > 100 are entire homes/apartments with some exceptions of private rooms in the Central Region.    \n",
    "The North Region, East Region, West Region and North-East Region typically have listings of price < 100 with room-types predominantely being private rooms, with some shared rooms and entire homes/apartments.\n",
    "\n",
    "It could be expected that price of room type is dependent on both location as well as its benefits.\n",
    "It ultimately comes down to the preference of the guest and how private they want their stay to be and it is this premium that guests will have to pay. Entire homes/apartments would be the most expensive, followed by private rooms and the cheapest being shared rooms.\n",
    "\n"
   ]
  },
  {
   "cell_type": "markdown",
   "metadata": {},
   "source": [
    "#### Neighbourhoods"
   ]
  },
  {
   "cell_type": "markdown",
   "metadata": {},
   "source": [
    "Previously we saw that that most listings in Airbnb SG were centered in the Central Region which also had the highest average price by region.  \n",
    "Now let's consider the relevancy of neighborhood."
   ]
  },
  {
   "cell_type": "code",
   "execution_count": 19,
   "metadata": {},
   "outputs": [
    {
     "data": {
      "text/plain": [
       "Kallang                    952\n",
       "Geylang                    917\n",
       "Novena                     498\n",
       "Rochor                     473\n",
       "Outram                     443\n",
       "Bukit Merah                431\n",
       "Bedok                      354\n",
       "Downtown Core              350\n",
       "River Valley               324\n",
       "Queenstown                 247\n",
       "Tanglin                    180\n",
       "Marine Parade              158\n",
       "Jurong West                148\n",
       "Singapore River            141\n",
       "Bukit Timah                117\n",
       "Jurong East                112\n",
       "Newton                     111\n",
       "Hougang                    100\n",
       "Toa Payoh                   97\n",
       "Clementi                    76\n",
       "Orchard                     72\n",
       "Pasir Ris                   70\n",
       "Serangoon                   68\n",
       "Woodlands                   65\n",
       "Sengkang                    65\n",
       "Bukit Batok                 62\n",
       "Choa Chu Kang               62\n",
       "Tampines                    61\n",
       "Ang Mo Kio                  57\n",
       "Bishan                      51\n",
       "Yishun                      49\n",
       "Museum                      45\n",
       "Punggol                     42\n",
       "Sembawang                   39\n",
       "Bukit Panjang               33\n",
       "Central Water Catchment     30\n",
       "Sungei Kadut                 5\n",
       "Western Water Catchment      4\n",
       "Mandai                       3\n",
       "Southern Islands             2\n",
       "Lim Chu Kang                 1\n",
       "Name: neighbourhood, dtype: int64"
      ]
     },
     "execution_count": 19,
     "metadata": {},
     "output_type": "execute_result"
    }
   ],
   "source": [
    "#Which neigbourhood are most listings located?\n",
    "\n",
    "dataset['neighbourhood'].value_counts()"
   ]
  },
  {
   "cell_type": "markdown",
   "metadata": {},
   "source": [
    "From the six regions, there are 41 unique neighborhoods in Singapore.  \n",
    "The range of listings is between 1-952 with most listings in Kallang (952) and the least listings in Lim Chu Kang (1)."
   ]
  },
  {
   "cell_type": "code",
   "execution_count": 20,
   "metadata": {},
   "outputs": [
    {
     "data": {
      "text/plain": [
       "4989"
      ]
     },
     "execution_count": 20,
     "metadata": {},
     "output_type": "execute_result"
    }
   ],
   "source": [
    "#Let's find the count of neighbourhoods that appear more than 200 times\n",
    "\n",
    "dfnh =dataset.groupby(\"neighbourhood\").filter(lambda x: x['neighbourhood'].count() > 200)\n",
    "len(dfnh[\"neighbourhood\"])\n"
   ]
  },
  {
   "cell_type": "markdown",
   "metadata": {},
   "source": [
    "4989 of the listings are counted more than 200 times or 70% of the dataset.  \n",
    "The remaining 30% of the listings have a range between 1-180, with the bottom five neighbourhoods appearing only in the single digits (Sungei Kadut 5, Western Water Catchment 4, Mandai 3, Southern Islands 2, Lim Chu Kang 1).\n",
    "We can definitely see that there is significant disparity between the different neighbourhoods.\n"
   ]
  },
  {
   "cell_type": "code",
   "execution_count": 21,
   "metadata": {},
   "outputs": [
    {
     "data": {
      "text/plain": [
       "Text(0.5, 1, 'Neighbourhood Group & Price Distribution')"
      ]
     },
     "execution_count": 21,
     "metadata": {},
     "output_type": "execute_result"
    },
    {
     "data": {
      "image/png": "[encoded data removed]",
      "text/plain": [
       "<Figure size 1566.75x288 with 1 Axes>"
      ]
     },
     "metadata": {
      "needs_background": "light"
     },
     "output_type": "display_data"
    }
   ],
   "source": [
    "#Let's figure out which neighbourhoods are in which specific neighbourhood_group/region\n",
    "\n",
    "\n",
    "chart = sns.catplot(\n",
    "        data=dataset,\n",
    "        x = \"neighbourhood\",\n",
    "        y = \"price\",\n",
    "        hue = \"neighbourhood_group\",\n",
    "        kind = \"box\",\n",
    "        aspect = 5,\n",
    "        height = 4)\n",
    "plt.xticks(rotation = 90)\n",
    "plt.title(\"Neighbourhood Group & Price Distribution\")\n"
   ]
  },
  {
   "cell_type": "markdown",
   "metadata": {},
   "source": [
    "This boxplot shows the price distribution of each neighbourhood.  \n",
    "We can see that there is definitely a price disparity and where the outliers lie\n",
    "between the different neighbourhood groups.\n",
    "\n",
    "In addition, we can see which neighbourhood is within which neighbourhood group/region.  \n",
    "There are 19 neighbourhoods in the Central Region.   \n",
    "There are 7 neighbourhoods in the North Region.    \n",
    "There are 7 neighbourhoods in the West Region.  \n",
    "There are 5 neighbourhoods in the Northeast Region.  \n",
    "There are 3 neighbourhoods in the East Region. \n",
    "\n"
   ]
  },
  {
   "cell_type": "markdown",
   "metadata": {},
   "source": [
    "#### Host Ids"
   ]
  },
  {
   "cell_type": "code",
   "execution_count": 22,
   "metadata": {},
   "outputs": [
    {
     "data": {
      "text/plain": [
       "254"
      ]
     },
     "execution_count": 22,
     "metadata": {},
     "output_type": "execute_result"
    }
   ],
   "source": [
    "#Are there any duplicate host ids? \n",
    "\n",
    "df = dataset.groupby([\"host_id\"])\n",
    "max(df.size())"
   ]
  },
  {
   "cell_type": "code",
   "execution_count": 23,
   "metadata": {
    "scrolled": true
   },
   "outputs": [
    {
     "data": {
      "text/plain": [
       "1    1841\n",
       "2     309\n",
       "3     106\n",
       "4      53\n",
       "5      40\n",
       "dtype: int64"
      ]
     },
     "execution_count": 23,
     "metadata": {},
     "output_type": "execute_result"
    }
   ],
   "source": [
    "df.size().value_counts().head()"
   ]
  },
  {
   "cell_type": "markdown",
   "metadata": {},
   "source": [
    "We can see that there are 1841 unique host-ids that only appear once in the Airbnb SG website.    \n",
    "However, some host_ids appear as much as 254 times after cleaning up the data."
   ]
  },
  {
   "cell_type": "code",
   "execution_count": 24,
   "metadata": {},
   "outputs": [
    {
     "data": {
      "text/plain": [
       "66406177"
      ]
     },
     "execution_count": 24,
     "metadata": {},
     "output_type": "execute_result"
    }
   ],
   "source": [
    "#Which host_id has the most listings?\n",
    "\n",
    "host_id_counts = dataset[\"host_id\"].value_counts()\n",
    "max_host = host_id_counts.idxmax()\n",
    "max_host"
   ]
  },
  {
   "cell_type": "code",
   "execution_count": 25,
   "metadata": {},
   "outputs": [
    {
     "data": {
      "text/html": [
       "<div>\n",
       "<style scoped>\n",
       "    .dataframe tbody tr th:only-of-type {\n",
       "        vertical-align: middle;\n",
       "    }\n",
       "\n",
       "    .dataframe tbody tr th {\n",
       "        vertical-align: top;\n",
       "    }\n",
       "\n",
       "    .dataframe thead th {\n",
       "        text-align: right;\n",
       "    }\n",
       "</style>\n",
       "<table border=\"1\" class=\"dataframe\">\n",
       "  <thead>\n",
       "    <tr style=\"text-align: right;\">\n",
       "      <th></th>\n",
       "      <th>id</th>\n",
       "      <th>name</th>\n",
       "      <th>host_id</th>\n",
       "      <th>host_name</th>\n",
       "      <th>neighbourhood_group</th>\n",
       "      <th>neighbourhood</th>\n",
       "      <th>latitude</th>\n",
       "      <th>longitude</th>\n",
       "      <th>room_type</th>\n",
       "      <th>price</th>\n",
       "      <th>minimum_nights</th>\n",
       "      <th>number_of_reviews</th>\n",
       "      <th>last_review</th>\n",
       "      <th>reviews_per_month</th>\n",
       "      <th>calculated_host_listings_count</th>\n",
       "      <th>availability_365</th>\n",
       "    </tr>\n",
       "  </thead>\n",
       "  <tbody>\n",
       "    <tr>\n",
       "      <th>2038</th>\n",
       "      <td>16174252</td>\n",
       "      <td>Humble &amp; Conveniently Located 1BR in Katong Area</td>\n",
       "      <td>66406177</td>\n",
       "      <td>Jay</td>\n",
       "      <td>Central Region</td>\n",
       "      <td>Marine Parade</td>\n",
       "      <td>1.30570</td>\n",
       "      <td>103.89816</td>\n",
       "      <td>Entire home/apt</td>\n",
       "      <td>90</td>\n",
       "      <td>4</td>\n",
       "      <td>19</td>\n",
       "      <td>2018-06-02</td>\n",
       "      <td>0.67</td>\n",
       "      <td>274</td>\n",
       "      <td>0</td>\n",
       "    </tr>\n",
       "    <tr>\n",
       "      <th>2192</th>\n",
       "      <td>16701352</td>\n",
       "      <td>Leisure Studio APT 5 mins from Tg Pagar MRT</td>\n",
       "      <td>66406177</td>\n",
       "      <td>Jay</td>\n",
       "      <td>Central Region</td>\n",
       "      <td>Downtown Core</td>\n",
       "      <td>1.27350</td>\n",
       "      <td>103.84527</td>\n",
       "      <td>Entire home/apt</td>\n",
       "      <td>144</td>\n",
       "      <td>30</td>\n",
       "      <td>34</td>\n",
       "      <td>2019-07-24</td>\n",
       "      <td>1.30</td>\n",
       "      <td>274</td>\n",
       "      <td>359</td>\n",
       "    </tr>\n",
       "    <tr>\n",
       "      <th>2522</th>\n",
       "      <td>18484277</td>\n",
       "      <td>Humble &amp; Conveniently Located 1BR in Katong Area</td>\n",
       "      <td>66406177</td>\n",
       "      <td>Jay</td>\n",
       "      <td>Central Region</td>\n",
       "      <td>Marine Parade</td>\n",
       "      <td>1.30587</td>\n",
       "      <td>103.89759</td>\n",
       "      <td>Entire home/apt</td>\n",
       "      <td>110</td>\n",
       "      <td>30</td>\n",
       "      <td>20</td>\n",
       "      <td>2019-06-03</td>\n",
       "      <td>0.71</td>\n",
       "      <td>274</td>\n",
       "      <td>303</td>\n",
       "    </tr>\n",
       "    <tr>\n",
       "      <th>2523</th>\n",
       "      <td>18486921</td>\n",
       "      <td>BRAND NEW 2bedroom home at West Coast/Clementi</td>\n",
       "      <td>66406177</td>\n",
       "      <td>Jay</td>\n",
       "      <td>West Region</td>\n",
       "      <td>Clementi</td>\n",
       "      <td>1.31596</td>\n",
       "      <td>103.75666</td>\n",
       "      <td>Entire home/apt</td>\n",
       "      <td>126</td>\n",
       "      <td>10</td>\n",
       "      <td>29</td>\n",
       "      <td>2019-06-02</td>\n",
       "      <td>1.07</td>\n",
       "      <td>274</td>\n",
       "      <td>0</td>\n",
       "    </tr>\n",
       "    <tr>\n",
       "      <th>2524</th>\n",
       "      <td>18487688</td>\n",
       "      <td>Superhost 1BR APT in the heart of Tg Pagar</td>\n",
       "      <td>66406177</td>\n",
       "      <td>Jay</td>\n",
       "      <td>Central Region</td>\n",
       "      <td>Downtown Core</td>\n",
       "      <td>1.27548</td>\n",
       "      <td>103.84444</td>\n",
       "      <td>Entire home/apt</td>\n",
       "      <td>146</td>\n",
       "      <td>30</td>\n",
       "      <td>22</td>\n",
       "      <td>2019-03-01</td>\n",
       "      <td>0.85</td>\n",
       "      <td>274</td>\n",
       "      <td>250</td>\n",
       "    </tr>\n",
       "    <tr>\n",
       "      <th>...</th>\n",
       "      <td>...</td>\n",
       "      <td>...</td>\n",
       "      <td>...</td>\n",
       "      <td>...</td>\n",
       "      <td>...</td>\n",
       "      <td>...</td>\n",
       "      <td>...</td>\n",
       "      <td>...</td>\n",
       "      <td>...</td>\n",
       "      <td>...</td>\n",
       "      <td>...</td>\n",
       "      <td>...</td>\n",
       "      <td>...</td>\n",
       "      <td>...</td>\n",
       "      <td>...</td>\n",
       "      <td>...</td>\n",
       "    </tr>\n",
       "    <tr>\n",
       "      <th>7745</th>\n",
       "      <td>37788787</td>\n",
       "      <td>Comfy &amp; Relaxing Studio APT near Farrer Park MRT</td>\n",
       "      <td>66406177</td>\n",
       "      <td>Jay</td>\n",
       "      <td>Central Region</td>\n",
       "      <td>Kallang</td>\n",
       "      <td>1.31200</td>\n",
       "      <td>103.85628</td>\n",
       "      <td>Entire home/apt</td>\n",
       "      <td>99</td>\n",
       "      <td>30</td>\n",
       "      <td>0</td>\n",
       "      <td>Not Reviewed</td>\n",
       "      <td>0.00</td>\n",
       "      <td>274</td>\n",
       "      <td>334</td>\n",
       "    </tr>\n",
       "    <tr>\n",
       "      <th>7746</th>\n",
       "      <td>37789401</td>\n",
       "      <td>Comfy &amp; Relaxing 1-Bedroom APT near FarrerPark...</td>\n",
       "      <td>66406177</td>\n",
       "      <td>Jay</td>\n",
       "      <td>Central Region</td>\n",
       "      <td>Kallang</td>\n",
       "      <td>1.31229</td>\n",
       "      <td>103.85829</td>\n",
       "      <td>Entire home/apt</td>\n",
       "      <td>111</td>\n",
       "      <td>30</td>\n",
       "      <td>0</td>\n",
       "      <td>Not Reviewed</td>\n",
       "      <td>0.00</td>\n",
       "      <td>274</td>\n",
       "      <td>235</td>\n",
       "    </tr>\n",
       "    <tr>\n",
       "      <th>7747</th>\n",
       "      <td>37790507</td>\n",
       "      <td>City located 2-bedroom apartment * BRAND NEW*</td>\n",
       "      <td>66406177</td>\n",
       "      <td>Jay</td>\n",
       "      <td>Central Region</td>\n",
       "      <td>Kallang</td>\n",
       "      <td>1.30347</td>\n",
       "      <td>103.86325</td>\n",
       "      <td>Entire home/apt</td>\n",
       "      <td>161</td>\n",
       "      <td>30</td>\n",
       "      <td>0</td>\n",
       "      <td>Not Reviewed</td>\n",
       "      <td>0.00</td>\n",
       "      <td>274</td>\n",
       "      <td>300</td>\n",
       "    </tr>\n",
       "    <tr>\n",
       "      <th>7808</th>\n",
       "      <td>37924009</td>\n",
       "      <td>Superior 1BR Residence near Farrer Park MRT</td>\n",
       "      <td>66406177</td>\n",
       "      <td>Jay</td>\n",
       "      <td>Central Region</td>\n",
       "      <td>Kallang</td>\n",
       "      <td>1.31312</td>\n",
       "      <td>103.85894</td>\n",
       "      <td>Entire home/apt</td>\n",
       "      <td>136</td>\n",
       "      <td>30</td>\n",
       "      <td>0</td>\n",
       "      <td>Not Reviewed</td>\n",
       "      <td>0.00</td>\n",
       "      <td>274</td>\n",
       "      <td>303</td>\n",
       "    </tr>\n",
       "    <tr>\n",
       "      <th>7810</th>\n",
       "      <td>37924392</td>\n",
       "      <td>1-Bedroom apartment near Farrer Park</td>\n",
       "      <td>66406177</td>\n",
       "      <td>Jay</td>\n",
       "      <td>Central Region</td>\n",
       "      <td>Kallang</td>\n",
       "      <td>1.31348</td>\n",
       "      <td>103.86028</td>\n",
       "      <td>Entire home/apt</td>\n",
       "      <td>136</td>\n",
       "      <td>30</td>\n",
       "      <td>0</td>\n",
       "      <td>Not Reviewed</td>\n",
       "      <td>0.00</td>\n",
       "      <td>274</td>\n",
       "      <td>353</td>\n",
       "    </tr>\n",
       "  </tbody>\n",
       "</table>\n",
       "<p>254 rows × 16 columns</p>\n",
       "</div>"
      ],
      "text/plain": [
       "            id                                               name   host_id  \\\n",
       "2038  16174252   Humble & Conveniently Located 1BR in Katong Area  66406177   \n",
       "2192  16701352        Leisure Studio APT 5 mins from Tg Pagar MRT  66406177   \n",
       "2522  18484277   Humble & Conveniently Located 1BR in Katong Area  66406177   \n",
       "2523  18486921     BRAND NEW 2bedroom home at West Coast/Clementi  66406177   \n",
       "2524  18487688         Superhost 1BR APT in the heart of Tg Pagar  66406177   \n",
       "...        ...                                                ...       ...   \n",
       "7745  37788787   Comfy & Relaxing Studio APT near Farrer Park MRT  66406177   \n",
       "7746  37789401  Comfy & Relaxing 1-Bedroom APT near FarrerPark...  66406177   \n",
       "7747  37790507      City located 2-bedroom apartment * BRAND NEW*  66406177   \n",
       "7808  37924009        Superior 1BR Residence near Farrer Park MRT  66406177   \n",
       "7810  37924392               1-Bedroom apartment near Farrer Park  66406177   \n",
       "\n",
       "     host_name neighbourhood_group  neighbourhood  latitude  longitude  \\\n",
       "2038       Jay      Central Region  Marine Parade   1.30570  103.89816   \n",
       "2192       Jay      Central Region  Downtown Core   1.27350  103.84527   \n",
       "2522       Jay      Central Region  Marine Parade   1.30587  103.89759   \n",
       "2523       Jay         West Region       Clementi   1.31596  103.75666   \n",
       "2524       Jay      Central Region  Downtown Core   1.27548  103.84444   \n",
       "...        ...                 ...            ...       ...        ...   \n",
       "7745       Jay      Central Region        Kallang   1.31200  103.85628   \n",
       "7746       Jay      Central Region        Kallang   1.31229  103.85829   \n",
       "7747       Jay      Central Region        Kallang   1.30347  103.86325   \n",
       "7808       Jay      Central Region        Kallang   1.31312  103.85894   \n",
       "7810       Jay      Central Region        Kallang   1.31348  103.86028   \n",
       "\n",
       "            room_type  price  minimum_nights  number_of_reviews   last_review  \\\n",
       "2038  Entire home/apt     90               4                 19    2018-06-02   \n",
       "2192  Entire home/apt    144              30                 34    2019-07-24   \n",
       "2522  Entire home/apt    110              30                 20    2019-06-03   \n",
       "2523  Entire home/apt    126              10                 29    2019-06-02   \n",
       "2524  Entire home/apt    146              30                 22    2019-03-01   \n",
       "...               ...    ...             ...                ...           ...   \n",
       "7745  Entire home/apt     99              30                  0  Not Reviewed   \n",
       "7746  Entire home/apt    111              30                  0  Not Reviewed   \n",
       "7747  Entire home/apt    161              30                  0  Not Reviewed   \n",
       "7808  Entire home/apt    136              30                  0  Not Reviewed   \n",
       "7810  Entire home/apt    136              30                  0  Not Reviewed   \n",
       "\n",
       "      reviews_per_month  calculated_host_listings_count  availability_365  \n",
       "2038               0.67                             274                 0  \n",
       "2192               1.30                             274               359  \n",
       "2522               0.71                             274               303  \n",
       "2523               1.07                             274                 0  \n",
       "2524               0.85                             274               250  \n",
       "...                 ...                             ...               ...  \n",
       "7745               0.00                             274               334  \n",
       "7746               0.00                             274               235  \n",
       "7747               0.00                             274               300  \n",
       "7808               0.00                             274               303  \n",
       "7810               0.00                             274               353  \n",
       "\n",
       "[254 rows x 16 columns]"
      ]
     },
     "execution_count": 25,
     "metadata": {},
     "output_type": "execute_result"
    }
   ],
   "source": [
    "dataset[dataset[\"host_id\"] == 66406177]"
   ]
  },
  {
   "cell_type": "markdown",
   "metadata": {},
   "source": [
    "Here we can see that Jay has the most listings, with 254 listings in Airbnb Singapore that are mainly located in the Central Region listed as entire homes/apartments.\n",
    "\n",
    "It was previously mentioned that some variables are not as important as others.\n",
    "ID and host name are probably not as relevant and efficient for a potential host to determine what the most efficient and optimal way is to get their highest ROI if they decide to sign up with Airbnb Singapore. At most, these variables could be utilized as more research on popular hosts.\n",
    "\n",
    "Feature selection will now be applied and listing id and host names will be dropped.\n",
    "\n"
   ]
  },
  {
   "cell_type": "code",
   "execution_count": 26,
   "metadata": {},
   "outputs": [],
   "source": [
    "dataset = dataset.drop(columns = [\"id\",\"host_name\"])"
   ]
  },
  {
   "cell_type": "markdown",
   "metadata": {},
   "source": [
    "#### Name Length"
   ]
  },
  {
   "cell_type": "markdown",
   "metadata": {},
   "source": [
    "Does the length of a listing have any sort of impact?  \n",
    "(i.e: Would a longer name of a listing have more visibility over a shorter name?  \n",
    "Or would a longer name of a listing have more reviews or higher price than a shorter listing name?)\n"
   ]
  },
  {
   "cell_type": "code",
   "execution_count": 27,
   "metadata": {},
   "outputs": [
    {
     "name": "stdout",
     "output_type": "stream",
     "text": [
      "92\n",
      "1\n",
      "6612\n",
      "2629\n"
     ]
    }
   ],
   "source": [
    "#Let's find the Min/Max name length and the ID for these listings\n",
    "\n",
    "dataset[\"name_length\"] = dataset['name'].map(str).apply(len)\n",
    "print(dataset[\"name_length\"].max())\n",
    "print(dataset[\"name_length\"].min())\n",
    "print(dataset[\"name_length\"].idxmax())\n",
    "print(dataset[\"name_length\"].idxmin())"
   ]
  },
  {
   "cell_type": "code",
   "execution_count": 28,
   "metadata": {},
   "outputs": [
    {
     "data": {
      "text/plain": [
       "'新加坡地区温馨好房,可以长住可以短租有兴趣加 (Hidden by Airbnb) vilyyyy或者拨打新加坡本地电话 (Phone number hidden by Airbnb)'"
      ]
     },
     "execution_count": 28,
     "metadata": {},
     "output_type": "execute_result"
    }
   ],
   "source": [
    "#What's the listing name with the longest length?\n",
    "dataset.at[6612, 'name']\n"
   ]
  },
  {
   "cell_type": "code",
   "execution_count": 29,
   "metadata": {
    "scrolled": true
   },
   "outputs": [
    {
     "data": {
      "text/plain": [
       "'.'"
      ]
     },
     "execution_count": 29,
     "metadata": {},
     "output_type": "execute_result"
    }
   ],
   "source": [
    "#What's the listing name with the shortest length?\n",
    "dataset.at[2629, 'name']"
   ]
  },
  {
   "cell_type": "markdown",
   "metadata": {},
   "source": [
    "Based from the results above, we can see that the shortest listing name has 1 character while the longest listing name has 6612 characters.\n",
    "\n",
    "Does the length of a listing impact it's visibility to users?   \n",
    "Let's assume that higher number of reviews is a result of people booking that particular listing \n",
    "based off the visibility and length of a listing,  \n",
    "meaning that name length -> more bookings -> more reviews -> more visibility."
   ]
  },
  {
   "cell_type": "code",
   "execution_count": 30,
   "metadata": {},
   "outputs": [
    {
     "data": {
      "text/html": [
       "<div>\n",
       "<style scoped>\n",
       "    .dataframe tbody tr th:only-of-type {\n",
       "        vertical-align: middle;\n",
       "    }\n",
       "\n",
       "    .dataframe tbody tr th {\n",
       "        vertical-align: top;\n",
       "    }\n",
       "\n",
       "    .dataframe thead th {\n",
       "        text-align: right;\n",
       "    }\n",
       "</style>\n",
       "<table border=\"1\" class=\"dataframe\">\n",
       "  <thead>\n",
       "    <tr style=\"text-align: right;\">\n",
       "      <th></th>\n",
       "      <th>count</th>\n",
       "      <th>mean</th>\n",
       "      <th>std</th>\n",
       "      <th>min</th>\n",
       "      <th>25%</th>\n",
       "      <th>50%</th>\n",
       "      <th>75%</th>\n",
       "      <th>max</th>\n",
       "    </tr>\n",
       "    <tr>\n",
       "      <th>neighbourhood_group</th>\n",
       "      <th></th>\n",
       "      <th></th>\n",
       "      <th></th>\n",
       "      <th></th>\n",
       "      <th></th>\n",
       "      <th></th>\n",
       "      <th></th>\n",
       "      <th></th>\n",
       "    </tr>\n",
       "  </thead>\n",
       "  <tbody>\n",
       "    <tr>\n",
       "      <th>Central Region</th>\n",
       "      <td>5609.0</td>\n",
       "      <td>38.641647</td>\n",
       "      <td>10.258670</td>\n",
       "      <td>1.0</td>\n",
       "      <td>33.0</td>\n",
       "      <td>41.0</td>\n",
       "      <td>47.0</td>\n",
       "      <td>85.0</td>\n",
       "    </tr>\n",
       "    <tr>\n",
       "      <th>East Region</th>\n",
       "      <td>485.0</td>\n",
       "      <td>35.261856</td>\n",
       "      <td>11.656919</td>\n",
       "      <td>3.0</td>\n",
       "      <td>29.0</td>\n",
       "      <td>35.0</td>\n",
       "      <td>46.0</td>\n",
       "      <td>52.0</td>\n",
       "    </tr>\n",
       "    <tr>\n",
       "      <th>North Region</th>\n",
       "      <td>192.0</td>\n",
       "      <td>34.666667</td>\n",
       "      <td>13.152482</td>\n",
       "      <td>2.0</td>\n",
       "      <td>26.0</td>\n",
       "      <td>35.0</td>\n",
       "      <td>47.0</td>\n",
       "      <td>59.0</td>\n",
       "    </tr>\n",
       "    <tr>\n",
       "      <th>North-East Region</th>\n",
       "      <td>332.0</td>\n",
       "      <td>32.150602</td>\n",
       "      <td>12.368764</td>\n",
       "      <td>3.0</td>\n",
       "      <td>23.0</td>\n",
       "      <td>32.0</td>\n",
       "      <td>43.0</td>\n",
       "      <td>50.0</td>\n",
       "    </tr>\n",
       "    <tr>\n",
       "      <th>West Region</th>\n",
       "      <td>497.0</td>\n",
       "      <td>34.991952</td>\n",
       "      <td>12.662171</td>\n",
       "      <td>4.0</td>\n",
       "      <td>28.0</td>\n",
       "      <td>36.0</td>\n",
       "      <td>46.0</td>\n",
       "      <td>92.0</td>\n",
       "    </tr>\n",
       "  </tbody>\n",
       "</table>\n",
       "</div>"
      ],
      "text/plain": [
       "                      count       mean        std  min   25%   50%   75%   max\n",
       "neighbourhood_group                                                           \n",
       "Central Region       5609.0  38.641647  10.258670  1.0  33.0  41.0  47.0  85.0\n",
       "East Region           485.0  35.261856  11.656919  3.0  29.0  35.0  46.0  52.0\n",
       "North Region          192.0  34.666667  13.152482  2.0  26.0  35.0  47.0  59.0\n",
       "North-East Region     332.0  32.150602  12.368764  3.0  23.0  32.0  43.0  50.0\n",
       "West Region           497.0  34.991952  12.662171  4.0  28.0  36.0  46.0  92.0"
      ]
     },
     "execution_count": 30,
     "metadata": {},
     "output_type": "execute_result"
    }
   ],
   "source": [
    "ng_nl = dataset.groupby(\"neighbourhood_group\")[\"name_length\"].describe()\n",
    "ng_nl"
   ]
  },
  {
   "cell_type": "code",
   "execution_count": 31,
   "metadata": {},
   "outputs": [
    {
     "data": {
      "text/html": [
       "<div>\n",
       "<style scoped>\n",
       "    .dataframe tbody tr th:only-of-type {\n",
       "        vertical-align: middle;\n",
       "    }\n",
       "\n",
       "    .dataframe tbody tr th {\n",
       "        vertical-align: top;\n",
       "    }\n",
       "\n",
       "    .dataframe thead th {\n",
       "        text-align: right;\n",
       "    }\n",
       "</style>\n",
       "<table border=\"1\" class=\"dataframe\">\n",
       "  <thead>\n",
       "    <tr style=\"text-align: right;\">\n",
       "      <th></th>\n",
       "      <th>count</th>\n",
       "      <th>mean</th>\n",
       "      <th>std</th>\n",
       "      <th>min</th>\n",
       "      <th>25%</th>\n",
       "      <th>50%</th>\n",
       "      <th>75%</th>\n",
       "      <th>max</th>\n",
       "    </tr>\n",
       "    <tr>\n",
       "      <th>room_type</th>\n",
       "      <th></th>\n",
       "      <th></th>\n",
       "      <th></th>\n",
       "      <th></th>\n",
       "      <th></th>\n",
       "      <th></th>\n",
       "      <th></th>\n",
       "      <th></th>\n",
       "    </tr>\n",
       "  </thead>\n",
       "  <tbody>\n",
       "    <tr>\n",
       "      <th>Entire home/apt</th>\n",
       "      <td>3470.0</td>\n",
       "      <td>39.051009</td>\n",
       "      <td>10.027721</td>\n",
       "      <td>1.0</td>\n",
       "      <td>33.0</td>\n",
       "      <td>42.0</td>\n",
       "      <td>47.0</td>\n",
       "      <td>85.0</td>\n",
       "    </tr>\n",
       "    <tr>\n",
       "      <th>Private room</th>\n",
       "      <td>3264.0</td>\n",
       "      <td>36.512868</td>\n",
       "      <td>11.627314</td>\n",
       "      <td>2.0</td>\n",
       "      <td>30.0</td>\n",
       "      <td>38.0</td>\n",
       "      <td>47.0</td>\n",
       "      <td>92.0</td>\n",
       "    </tr>\n",
       "    <tr>\n",
       "      <th>Shared room</th>\n",
       "      <td>381.0</td>\n",
       "      <td>36.427822</td>\n",
       "      <td>10.404360</td>\n",
       "      <td>1.0</td>\n",
       "      <td>31.0</td>\n",
       "      <td>36.0</td>\n",
       "      <td>46.0</td>\n",
       "      <td>53.0</td>\n",
       "    </tr>\n",
       "  </tbody>\n",
       "</table>\n",
       "</div>"
      ],
      "text/plain": [
       "                  count       mean        std  min   25%   50%   75%   max\n",
       "room_type                                                                 \n",
       "Entire home/apt  3470.0  39.051009  10.027721  1.0  33.0  42.0  47.0  85.0\n",
       "Private room     3264.0  36.512868  11.627314  2.0  30.0  38.0  47.0  92.0\n",
       "Shared room       381.0  36.427822  10.404360  1.0  31.0  36.0  46.0  53.0"
      ]
     },
     "execution_count": 31,
     "metadata": {},
     "output_type": "execute_result"
    }
   ],
   "source": [
    "ng_rt = dataset.groupby(\"room_type\")[\"name_length\"].describe()\n",
    "ng_rt"
   ]
  },
  {
   "cell_type": "markdown",
   "metadata": {},
   "source": [
    "We can see that the average name length of the different regions vary between 32-39, with the Central Region having the longest name length.   \n",
    "In addition, we can also see that entire homes/apartment have the longest name length, followed by private rooms and shared rooms.\n",
    "\n"
   ]
  },
  {
   "cell_type": "code",
   "execution_count": 32,
   "metadata": {},
   "outputs": [
    {
     "data": {
      "text/plain": [
       "<matplotlib.axes._subplots.AxesSubplot at 0x1a28560950>"
      ]
     },
     "execution_count": 32,
     "metadata": {},
     "output_type": "execute_result"
    },
    {
     "data": {
      "image/png": "[encoded data removed]",
      "text/plain": [
       "<Figure size 432x288 with 1 Axes>"
      ]
     },
     "metadata": {
      "needs_background": "light"
     },
     "output_type": "display_data"
    }
   ],
   "source": [
    "#Let's create a scatterplot showing name_length by number_of_reviews\n",
    "dataset.plot.scatter(x = \"name_length\", y = \"number_of_reviews\")"
   ]
  },
  {
   "cell_type": "code",
   "execution_count": 33,
   "metadata": {},
   "outputs": [
    {
     "data": {
      "text/plain": [
       "-0.028797450544760957"
      ]
     },
     "execution_count": 33,
     "metadata": {},
     "output_type": "execute_result"
    }
   ],
   "source": [
    "#What's the correlation between name_length and number_of_reviews?\n",
    "dataset[\"name_length\"].corr(dataset[\"number_of_reviews\"])"
   ]
  },
  {
   "cell_type": "markdown",
   "metadata": {},
   "source": [
    "We can clearly see that there is no relationship between the name length of a listing and the number of reviews.   \n",
    "In fact there is a slight negative correlation between these two variables.\n",
    "\n",
    "Let's now see if there is a relationship between the length of a listing and price.  \n",
    "The cutoff point for name_length will be set at 50 as most name lengths are <50."
   ]
  },
  {
   "cell_type": "code",
   "execution_count": 34,
   "metadata": {},
   "outputs": [
    {
     "data": {
      "text/plain": [
       "<matplotlib.axes._subplots.AxesSubplot at 0x1a27a7e150>"
      ]
     },
     "execution_count": 34,
     "metadata": {},
     "output_type": "execute_result"
    },
    {
     "data": {
      "image/png": "[encoded data removed]",
      "text/plain": [
       "<Figure size 432x288 with 1 Axes>"
      ]
     },
     "metadata": {
      "needs_background": "light"
     },
     "output_type": "display_data"
    }
   ],
   "source": [
    "dataset[dataset[\"name_length\"]<50].plot.scatter(x=\"price\", y=\"name_length\")"
   ]
  },
  {
   "cell_type": "code",
   "execution_count": 35,
   "metadata": {},
   "outputs": [
    {
     "data": {
      "text/plain": [
       "0.1246681590538997"
      ]
     },
     "execution_count": 35,
     "metadata": {},
     "output_type": "execute_result"
    }
   ],
   "source": [
    "dataset[\"name_length\"].corr(dataset[\"price\"])"
   ]
  },
  {
   "cell_type": "markdown",
   "metadata": {},
   "source": [
    "Name length and price does have a relationship!   \n",
    "There's a slight positive correlation (0.125) between these two variables.\n",
    "\n",
    "\n",
    "Future hosts can take this into consideration when listing their properties.    \n",
    "This could potentially be a result from current hosts wanting to advertise their property in their name and what it entails (location, amenities, walk-score, etc).   \n",
    "A longer name might display better accomodations and benefits than a shorter name and comes at a higher price.\n",
    "Perhaps this contributes to Central Regions' and entire homes/apartment success, as it is these variables that\n",
    "are the most lucrative. \n",
    "\n",
    "\n",
    "\n",
    "\n"
   ]
  },
  {
   "cell_type": "markdown",
   "metadata": {},
   "source": [
    "#### Room Type"
   ]
  },
  {
   "cell_type": "markdown",
   "metadata": {},
   "source": [
    "The relevance of room type is expected to be important.   \n",
    "Besides deciding where a guest would want to plan their stay, a guest would also have to decide on the room type which is also related to price and minimum nights of stay. A more frugal guest would more likely choose a cheaper option for a long stay, whereas travelers who are on vacation might want to splurge and choose a more luxury place of stay.\n"
   ]
  },
  {
   "cell_type": "code",
   "execution_count": 36,
   "metadata": {},
   "outputs": [
    {
     "data": {
      "text/plain": [
       "Entire home/apt    3470\n",
       "Private room       3264\n",
       "Shared room         381\n",
       "Name: room_type, dtype: int64"
      ]
     },
     "execution_count": 36,
     "metadata": {},
     "output_type": "execute_result"
    }
   ],
   "source": [
    "#Let's look at room_type and see if if it has any relationship with other categories\n",
    "\n",
    "dataset['room_type'].value_counts()"
   ]
  },
  {
   "cell_type": "code",
   "execution_count": 37,
   "metadata": {},
   "outputs": [
    {
     "data": {
      "text/html": [
       "<div>\n",
       "<style scoped>\n",
       "    .dataframe tbody tr th:only-of-type {\n",
       "        vertical-align: middle;\n",
       "    }\n",
       "\n",
       "    .dataframe tbody tr th {\n",
       "        vertical-align: top;\n",
       "    }\n",
       "\n",
       "    .dataframe thead th {\n",
       "        text-align: right;\n",
       "    }\n",
       "</style>\n",
       "<table border=\"1\" class=\"dataframe\">\n",
       "  <thead>\n",
       "    <tr style=\"text-align: right;\">\n",
       "      <th></th>\n",
       "      <th>count</th>\n",
       "      <th>mean</th>\n",
       "      <th>std</th>\n",
       "      <th>min</th>\n",
       "      <th>25%</th>\n",
       "      <th>50%</th>\n",
       "      <th>75%</th>\n",
       "      <th>max</th>\n",
       "    </tr>\n",
       "    <tr>\n",
       "      <th>room_type</th>\n",
       "      <th></th>\n",
       "      <th></th>\n",
       "      <th></th>\n",
       "      <th></th>\n",
       "      <th></th>\n",
       "      <th></th>\n",
       "      <th></th>\n",
       "      <th></th>\n",
       "    </tr>\n",
       "  </thead>\n",
       "  <tbody>\n",
       "    <tr>\n",
       "      <th>Entire home/apt</th>\n",
       "      <td>3470.0</td>\n",
       "      <td>169.930548</td>\n",
       "      <td>58.683506</td>\n",
       "      <td>0.0</td>\n",
       "      <td>125.0</td>\n",
       "      <td>156.0</td>\n",
       "      <td>208.0</td>\n",
       "      <td>299.0</td>\n",
       "    </tr>\n",
       "    <tr>\n",
       "      <th>Private room</th>\n",
       "      <td>3264.0</td>\n",
       "      <td>80.133578</td>\n",
       "      <td>45.552500</td>\n",
       "      <td>14.0</td>\n",
       "      <td>50.0</td>\n",
       "      <td>65.0</td>\n",
       "      <td>96.0</td>\n",
       "      <td>290.0</td>\n",
       "    </tr>\n",
       "    <tr>\n",
       "      <th>Shared room</th>\n",
       "      <td>381.0</td>\n",
       "      <td>45.535433</td>\n",
       "      <td>38.794084</td>\n",
       "      <td>14.0</td>\n",
       "      <td>26.0</td>\n",
       "      <td>32.0</td>\n",
       "      <td>50.0</td>\n",
       "      <td>290.0</td>\n",
       "    </tr>\n",
       "  </tbody>\n",
       "</table>\n",
       "</div>"
      ],
      "text/plain": [
       "                  count        mean        std   min    25%    50%    75%  \\\n",
       "room_type                                                                   \n",
       "Entire home/apt  3470.0  169.930548  58.683506   0.0  125.0  156.0  208.0   \n",
       "Private room     3264.0   80.133578  45.552500  14.0   50.0   65.0   96.0   \n",
       "Shared room       381.0   45.535433  38.794084  14.0   26.0   32.0   50.0   \n",
       "\n",
       "                   max  \n",
       "room_type               \n",
       "Entire home/apt  299.0  \n",
       "Private room     290.0  \n",
       "Shared room      290.0  "
      ]
     },
     "execution_count": 37,
     "metadata": {},
     "output_type": "execute_result"
    }
   ],
   "source": [
    "#How does the statistics and distribution of room type look?\n",
    "\n",
    "rt_price = dataset.groupby('room_type')[\"price\"].describe()\n",
    "rt_price"
   ]
  },
  {
   "cell_type": "markdown",
   "metadata": {},
   "source": [
    "Like we saw earlier, most listings are entire homes/apartments, followed by private rooms, and shared rooms being the least offered listing.   \n",
    "The distribution between room type are 49%, 46% and 5% respectively for entire homes/apartments, private rooms and shared rooms.\n",
    "Price differences also follows this pattern, with the average price of an entire home/apartment being 169.9, followed by private rooms and lastly shared rooms."
   ]
  },
  {
   "cell_type": "code",
   "execution_count": 38,
   "metadata": {},
   "outputs": [
    {
     "data": {
      "text/plain": [
       "Text(0.5, 1, 'Room Type & Price Distribution')"
      ]
     },
     "execution_count": 38,
     "metadata": {},
     "output_type": "execute_result"
    },
    {
     "data": {
      "image/png": "[encoded data removed]",
      "text/plain": [
       "<Figure size 774.75x216 with 1 Axes>"
      ]
     },
     "metadata": {
      "needs_background": "light"
     },
     "output_type": "display_data"
    }
   ],
   "source": [
    "#Let's look at the distribution on room type and price \n",
    "\n",
    "chart = sns.catplot(\n",
    "        data=dataset,\n",
    "        x = \"room_type\",\n",
    "        y = \"price\",\n",
    "        hue = \"neighbourhood_group\", \n",
    "        kind = \"bar\",\n",
    "        aspect = 3,\n",
    "        height = 3)\n",
    "plt.title(\"Room Type & Price Distribution\")\n"
   ]
  },
  {
   "cell_type": "markdown",
   "metadata": {},
   "source": [
    "We previously saw that the average price of all listings was 122.08 when we removed the outliers and set a price cap of 300.\n",
    "\n",
    "From this distribution, we can see the differences when we look into room types specifically:         \n",
    "The average pricing of entire homes/apartments is 169.93, with most of the listings being in the range of 125-208.   \n",
    "The average pricing of private rooms is 80.14, with most of the listings being in the range of 50-96.    \n",
    "The average pricing of share rooms is 45.54, with most of the listings being in the range of 26-50.     \n",
    "\n",
    "As mentioned earlier, the better perceived value of a room is reflected by its price.   \n",
    "Entire homes/apartments are the most expensive listings followed by private rooms and shared rooms being the \n",
    "cheapest.   \n",
    "It's also interesting to note the count of each room type after removing the outliers:     \n",
    "Entire homes/apartment - 48.8%     \n",
    "Private rooms - 45.9%     \n",
    "Shared rooms - 5.3%    "
   ]
  },
  {
   "cell_type": "markdown",
   "metadata": {},
   "source": [
    "#### Minimum Nights"
   ]
  },
  {
   "cell_type": "markdown",
   "metadata": {},
   "source": [
    "Minimum nights is the least required amount of nights needed to book a stay from a host's property.   \n",
    "Let's see if there's any interesting that we can find about minimum nights."
   ]
  },
  {
   "cell_type": "code",
   "execution_count": 39,
   "metadata": {},
   "outputs": [
    {
     "data": {
      "text/plain": [
       "count    7115.000000\n",
       "mean       18.199859\n",
       "std        42.392290\n",
       "min         1.000000\n",
       "25%         1.000000\n",
       "50%         3.000000\n",
       "75%        13.000000\n",
       "max      1000.000000\n",
       "Name: minimum_nights, dtype: float64"
      ]
     },
     "execution_count": 39,
     "metadata": {},
     "output_type": "execute_result"
    }
   ],
   "source": [
    "#Is there anything interesting to note about minimum nights?\n",
    "dataset['minimum_nights'].describe()"
   ]
  },
  {
   "cell_type": "markdown",
   "metadata": {},
   "source": [
    "Mininium nights have a range of 1-1000 which is interesting since most of the range is between 1-13 nights.      \n",
    "The maximum minimum nights means that if a guest chooses to stay here, they can stay at this listing\n",
    "for over a three year period!   \n",
    "This seems odd, especially if we consider that most travelers of Singapore only stay for a few days to a few weeks\n",
    "and those who stay in Singapore over 90 days must either apply for a travel or work visa.    \n",
    "\n",
    "\n"
   ]
  },
  {
   "cell_type": "code",
   "execution_count": 40,
   "metadata": {},
   "outputs": [
    {
     "data": {
      "image/png": "[encoded data removed]",
      "text/plain": [
       "<Figure size 432x288 with 1 Axes>"
      ]
     },
     "metadata": {
      "needs_background": "light"
     },
     "output_type": "display_data"
    }
   ],
   "source": [
    "#How does the distribution of minimum nights look?\n",
    "\n",
    "hist_mn = dataset[\"minimum_nights\"].hist()\n",
    "plt.xlabel(\"Minimum Nights \")\n",
    "plt.ylabel(\"Number of Listings\")\n",
    "plt.title(\"Minimum Nights by Number of Listings\")\n",
    "plt.show()"
   ]
  },
  {
   "cell_type": "code",
   "execution_count": 41,
   "metadata": {},
   "outputs": [
    {
     "data": {
      "image/png": "[encoded data removed]",
      "text/plain": [
       "<Figure size 432x288 with 1 Axes>"
      ]
     },
     "metadata": {
      "needs_background": "light"
     },
     "output_type": "display_data"
    }
   ],
   "source": [
    "#Let's take a closer look at minimum nights\n",
    "#Let's set a cap to minimum nights to 13 since most of the range seems to be within 1-13 nights\n",
    "\n",
    "hist_mn1 = dataset[\"minimum_nights\"][dataset[\"minimum_nights\"]<13].hist()\n",
    "plt.xlabel(\"Minimum Nights\")\n",
    "plt.ylabel(\"Number of Listings\")\n",
    "plt.title(\"Minimum Nights by Number of Listings\")\n",
    "plt.show()"
   ]
  },
  {
   "cell_type": "code",
   "execution_count": 42,
   "metadata": {},
   "outputs": [
    {
     "data": {
      "text/plain": [
       "0       180\n",
       "1        90\n",
       "7        90\n",
       "8        90\n",
       "9        90\n",
       "       ... \n",
       "7814     90\n",
       "7843     90\n",
       "7888     90\n",
       "7892     90\n",
       "7906     90\n",
       "Name: minimum_nights, Length: 800, dtype: int64"
      ]
     },
     "execution_count": 42,
     "metadata": {},
     "output_type": "execute_result"
    }
   ],
   "source": [
    "#How many minimum nights are > 30?\n",
    "\n",
    "dataset[\"minimum_nights\"][dataset[\"minimum_nights\"]>30]"
   ]
  },
  {
   "cell_type": "code",
   "execution_count": 43,
   "metadata": {},
   "outputs": [
    {
     "data": {
      "image/png": "[encoded data removed]",
      "text/plain": [
       "<Figure size 432x288 with 1 Axes>"
      ]
     },
     "metadata": {
      "needs_background": "light"
     },
     "output_type": "display_data"
    }
   ],
   "source": [
    "#Let's remove the outliers and replace minimum nights greater than 30 with 30\n",
    "\n",
    "dataset.loc[(dataset.minimum_nights >30),\"minimum_nights\"]=30\n",
    "hist_mn2=dataset[\"minimum_nights\"][dataset[\"minimum_nights\"]<30].hist()\n",
    "plt.xlabel(\"Minimum Nights \")\n",
    "plt.ylabel(\"Number of Listings\")\n",
    "plt.title(\"Minimum Nights by Number of Listings\")\n",
    "plt.show()\n"
   ]
  },
  {
   "cell_type": "code",
   "execution_count": 44,
   "metadata": {},
   "outputs": [
    {
     "data": {
      "text/html": [
       "<div>\n",
       "<style scoped>\n",
       "    .dataframe tbody tr th:only-of-type {\n",
       "        vertical-align: middle;\n",
       "    }\n",
       "\n",
       "    .dataframe tbody tr th {\n",
       "        vertical-align: top;\n",
       "    }\n",
       "\n",
       "    .dataframe thead th {\n",
       "        text-align: right;\n",
       "    }\n",
       "</style>\n",
       "<table border=\"1\" class=\"dataframe\">\n",
       "  <thead>\n",
       "    <tr style=\"text-align: right;\">\n",
       "      <th></th>\n",
       "      <th>count</th>\n",
       "      <th>mean</th>\n",
       "      <th>std</th>\n",
       "      <th>min</th>\n",
       "      <th>25%</th>\n",
       "      <th>50%</th>\n",
       "      <th>75%</th>\n",
       "      <th>max</th>\n",
       "    </tr>\n",
       "    <tr>\n",
       "      <th>neighbourhood_group</th>\n",
       "      <th></th>\n",
       "      <th></th>\n",
       "      <th></th>\n",
       "      <th></th>\n",
       "      <th></th>\n",
       "      <th></th>\n",
       "      <th></th>\n",
       "      <th></th>\n",
       "    </tr>\n",
       "  </thead>\n",
       "  <tbody>\n",
       "    <tr>\n",
       "      <th>Central Region</th>\n",
       "      <td>5609.0</td>\n",
       "      <td>8.724550</td>\n",
       "      <td>10.635105</td>\n",
       "      <td>1.0</td>\n",
       "      <td>2.0</td>\n",
       "      <td>3.0</td>\n",
       "      <td>14.00</td>\n",
       "      <td>30.0</td>\n",
       "    </tr>\n",
       "    <tr>\n",
       "      <th>East Region</th>\n",
       "      <td>485.0</td>\n",
       "      <td>8.144330</td>\n",
       "      <td>11.275650</td>\n",
       "      <td>1.0</td>\n",
       "      <td>1.0</td>\n",
       "      <td>2.0</td>\n",
       "      <td>7.00</td>\n",
       "      <td>30.0</td>\n",
       "    </tr>\n",
       "    <tr>\n",
       "      <th>North Region</th>\n",
       "      <td>192.0</td>\n",
       "      <td>8.760417</td>\n",
       "      <td>11.416205</td>\n",
       "      <td>1.0</td>\n",
       "      <td>1.0</td>\n",
       "      <td>2.0</td>\n",
       "      <td>7.00</td>\n",
       "      <td>30.0</td>\n",
       "    </tr>\n",
       "    <tr>\n",
       "      <th>North-East Region</th>\n",
       "      <td>332.0</td>\n",
       "      <td>9.623494</td>\n",
       "      <td>12.009052</td>\n",
       "      <td>1.0</td>\n",
       "      <td>1.0</td>\n",
       "      <td>2.0</td>\n",
       "      <td>20.25</td>\n",
       "      <td>30.0</td>\n",
       "    </tr>\n",
       "    <tr>\n",
       "      <th>West Region</th>\n",
       "      <td>497.0</td>\n",
       "      <td>9.094567</td>\n",
       "      <td>11.316965</td>\n",
       "      <td>1.0</td>\n",
       "      <td>1.0</td>\n",
       "      <td>3.0</td>\n",
       "      <td>10.00</td>\n",
       "      <td>30.0</td>\n",
       "    </tr>\n",
       "  </tbody>\n",
       "</table>\n",
       "</div>"
      ],
      "text/plain": [
       "                      count      mean        std  min  25%  50%    75%   max\n",
       "neighbourhood_group                                                         \n",
       "Central Region       5609.0  8.724550  10.635105  1.0  2.0  3.0  14.00  30.0\n",
       "East Region           485.0  8.144330  11.275650  1.0  1.0  2.0   7.00  30.0\n",
       "North Region          192.0  8.760417  11.416205  1.0  1.0  2.0   7.00  30.0\n",
       "North-East Region     332.0  9.623494  12.009052  1.0  1.0  2.0  20.25  30.0\n",
       "West Region           497.0  9.094567  11.316965  1.0  1.0  3.0  10.00  30.0"
      ]
     },
     "execution_count": 44,
     "metadata": {},
     "output_type": "execute_result"
    }
   ],
   "source": [
    "ng_mn = dataset.groupby(\"neighbourhood_group\")[\"minimum_nights\"].describe()\n",
    "ng_mn"
   ]
  },
  {
   "cell_type": "code",
   "execution_count": 45,
   "metadata": {
    "scrolled": true
   },
   "outputs": [
    {
     "data": {
      "text/plain": [
       "<matplotlib.axes._subplots.AxesSubplot at 0x1a29531cd0>"
      ]
     },
     "execution_count": 45,
     "metadata": {},
     "output_type": "execute_result"
    },
    {
     "data": {
      "image/png": "[encoded data removed]",
      "text/plain": [
       "<Figure size 432x288 with 1 Axes>"
      ]
     },
     "metadata": {
      "needs_background": "light"
     },
     "output_type": "display_data"
    }
   ],
   "source": [
    "#Is there any relationship with minimum nights and price?\n",
    "\n",
    "dataset[dataset[\"minimum_nights\"]<=30].plot.scatter(x=\"minimum_nights\", y=\"price\")"
   ]
  },
  {
   "cell_type": "code",
   "execution_count": 46,
   "metadata": {},
   "outputs": [
    {
     "data": {
      "text/plain": [
       "-0.051505779636662447"
      ]
     },
     "execution_count": 46,
     "metadata": {},
     "output_type": "execute_result"
    }
   ],
   "source": [
    "dataset[\"minimum_nights\"].corr(dataset[\"price\"])"
   ]
  },
  {
   "cell_type": "markdown",
   "metadata": {},
   "source": [
    "Price is not affected much by minimum nights.  \n",
    "We see that across all rgions, the average minimum nights is between 8-10.  \n",
    "In fact, there is a slight negative correlation between these two variables (-0.05).     \n",
    "The miniscule correlation could be a result of small discounts given out to guests who stay at a hosts' property for a longer duration. The effect nonetheless is not that significant. It seems that regardless of how many nights a guest wants to stay at a property, price would remain relatively constant with some exceptions.\n"
   ]
  },
  {
   "cell_type": "markdown",
   "metadata": {},
   "source": [
    "#### Availability 365"
   ]
  },
  {
   "cell_type": "markdown",
   "metadata": {},
   "source": [
    "Lastly, let's take a look into availability of a property listing.   \n",
    "What is the average and range of availability by property?   \n",
    "If the purpose of Airbnb hosts' was to maximize their revenue, it would be imagined that availability would be year-long with some exception of holidays or personal events."
   ]
  },
  {
   "cell_type": "code",
   "execution_count": 47,
   "metadata": {},
   "outputs": [
    {
     "data": {
      "text/plain": [
       "count    7115.000000\n",
       "mean      204.450457\n",
       "std       147.091996\n",
       "min         0.000000\n",
       "25%        49.000000\n",
       "50%       254.000000\n",
       "75%       354.000000\n",
       "max       365.000000\n",
       "Name: availability_365, dtype: float64"
      ]
     },
     "execution_count": 47,
     "metadata": {},
     "output_type": "execute_result"
    }
   ],
   "source": [
    "#Let's look at availability_365 and see if there's any relationship with other variables\n",
    "\n",
    "dataset[\"availability_365\"].describe()"
   ]
  },
  {
   "cell_type": "code",
   "execution_count": 48,
   "metadata": {},
   "outputs": [
    {
     "data": {
      "image/png": "[encoded data removed]",
      "text/plain": [
       "<Figure size 432x288 with 1 Axes>"
      ]
     },
     "metadata": {
      "needs_background": "light"
     },
     "output_type": "display_data"
    }
   ],
   "source": [
    "hist_availability = dataset[\"availability_365\"].hist()\n",
    "plt.xlabel (\"Days of Availability\")\n",
    "plt.ylabel (\"Number of Listings\")\n",
    "plt.title (\"Days of Availability by Number of Listings\")\n",
    "plt.show()"
   ]
  },
  {
   "cell_type": "code",
   "execution_count": 49,
   "metadata": {},
   "outputs": [
    {
     "data": {
      "text/html": [
       "<div>\n",
       "<style scoped>\n",
       "    .dataframe tbody tr th:only-of-type {\n",
       "        vertical-align: middle;\n",
       "    }\n",
       "\n",
       "    .dataframe tbody tr th {\n",
       "        vertical-align: top;\n",
       "    }\n",
       "\n",
       "    .dataframe thead th {\n",
       "        text-align: right;\n",
       "    }\n",
       "</style>\n",
       "<table border=\"1\" class=\"dataframe\">\n",
       "  <thead>\n",
       "    <tr style=\"text-align: right;\">\n",
       "      <th></th>\n",
       "      <th>count</th>\n",
       "      <th>mean</th>\n",
       "      <th>std</th>\n",
       "      <th>min</th>\n",
       "      <th>25%</th>\n",
       "      <th>50%</th>\n",
       "      <th>75%</th>\n",
       "      <th>max</th>\n",
       "    </tr>\n",
       "    <tr>\n",
       "      <th>neighbourhood_group</th>\n",
       "      <th></th>\n",
       "      <th></th>\n",
       "      <th></th>\n",
       "      <th></th>\n",
       "      <th></th>\n",
       "      <th></th>\n",
       "      <th></th>\n",
       "      <th></th>\n",
       "    </tr>\n",
       "  </thead>\n",
       "  <tbody>\n",
       "    <tr>\n",
       "      <th>Central Region</th>\n",
       "      <td>5609.0</td>\n",
       "      <td>211.302371</td>\n",
       "      <td>144.890779</td>\n",
       "      <td>0.0</td>\n",
       "      <td>57.0</td>\n",
       "      <td>262.0</td>\n",
       "      <td>354.0</td>\n",
       "      <td>365.0</td>\n",
       "    </tr>\n",
       "    <tr>\n",
       "      <th>East Region</th>\n",
       "      <td>485.0</td>\n",
       "      <td>174.451546</td>\n",
       "      <td>150.945246</td>\n",
       "      <td>0.0</td>\n",
       "      <td>0.0</td>\n",
       "      <td>149.0</td>\n",
       "      <td>345.0</td>\n",
       "      <td>365.0</td>\n",
       "    </tr>\n",
       "    <tr>\n",
       "      <th>North Region</th>\n",
       "      <td>192.0</td>\n",
       "      <td>211.791667</td>\n",
       "      <td>154.014103</td>\n",
       "      <td>0.0</td>\n",
       "      <td>35.0</td>\n",
       "      <td>271.5</td>\n",
       "      <td>364.0</td>\n",
       "      <td>365.0</td>\n",
       "    </tr>\n",
       "    <tr>\n",
       "      <th>North-East Region</th>\n",
       "      <td>332.0</td>\n",
       "      <td>163.545181</td>\n",
       "      <td>147.289061</td>\n",
       "      <td>0.0</td>\n",
       "      <td>0.0</td>\n",
       "      <td>143.5</td>\n",
       "      <td>339.5</td>\n",
       "      <td>365.0</td>\n",
       "    </tr>\n",
       "    <tr>\n",
       "      <th>West Region</th>\n",
       "      <td>497.0</td>\n",
       "      <td>180.885312</td>\n",
       "      <td>154.942721</td>\n",
       "      <td>0.0</td>\n",
       "      <td>0.0</td>\n",
       "      <td>179.0</td>\n",
       "      <td>355.0</td>\n",
       "      <td>365.0</td>\n",
       "    </tr>\n",
       "  </tbody>\n",
       "</table>\n",
       "</div>"
      ],
      "text/plain": [
       "                      count        mean         std  min   25%    50%    75%  \\\n",
       "neighbourhood_group                                                            \n",
       "Central Region       5609.0  211.302371  144.890779  0.0  57.0  262.0  354.0   \n",
       "East Region           485.0  174.451546  150.945246  0.0   0.0  149.0  345.0   \n",
       "North Region          192.0  211.791667  154.014103  0.0  35.0  271.5  364.0   \n",
       "North-East Region     332.0  163.545181  147.289061  0.0   0.0  143.5  339.5   \n",
       "West Region           497.0  180.885312  154.942721  0.0   0.0  179.0  355.0   \n",
       "\n",
       "                       max  \n",
       "neighbourhood_group         \n",
       "Central Region       365.0  \n",
       "East Region          365.0  \n",
       "North Region         365.0  \n",
       "North-East Region    365.0  \n",
       "West Region          365.0  "
      ]
     },
     "execution_count": 49,
     "metadata": {},
     "output_type": "execute_result"
    }
   ],
   "source": [
    "ng_a = dataset.groupby(\"neighbourhood_group\")[\"availability_365\"].describe()\n",
    "ng_a"
   ]
  },
  {
   "cell_type": "code",
   "execution_count": 50,
   "metadata": {},
   "outputs": [
    {
     "data": {
      "text/html": [
       "<div>\n",
       "<style scoped>\n",
       "    .dataframe tbody tr th:only-of-type {\n",
       "        vertical-align: middle;\n",
       "    }\n",
       "\n",
       "    .dataframe tbody tr th {\n",
       "        vertical-align: top;\n",
       "    }\n",
       "\n",
       "    .dataframe thead th {\n",
       "        text-align: right;\n",
       "    }\n",
       "</style>\n",
       "<table border=\"1\" class=\"dataframe\">\n",
       "  <thead>\n",
       "    <tr style=\"text-align: right;\">\n",
       "      <th></th>\n",
       "      <th>count</th>\n",
       "      <th>mean</th>\n",
       "      <th>std</th>\n",
       "      <th>min</th>\n",
       "      <th>25%</th>\n",
       "      <th>50%</th>\n",
       "      <th>75%</th>\n",
       "      <th>max</th>\n",
       "    </tr>\n",
       "    <tr>\n",
       "      <th>room_type</th>\n",
       "      <th></th>\n",
       "      <th></th>\n",
       "      <th></th>\n",
       "      <th></th>\n",
       "      <th></th>\n",
       "      <th></th>\n",
       "      <th></th>\n",
       "      <th></th>\n",
       "    </tr>\n",
       "  </thead>\n",
       "  <tbody>\n",
       "    <tr>\n",
       "      <th>Entire home/apt</th>\n",
       "      <td>3470.0</td>\n",
       "      <td>203.613545</td>\n",
       "      <td>141.785510</td>\n",
       "      <td>0.0</td>\n",
       "      <td>55.0</td>\n",
       "      <td>254.0</td>\n",
       "      <td>340.0</td>\n",
       "      <td>365.0</td>\n",
       "    </tr>\n",
       "    <tr>\n",
       "      <th>Private room</th>\n",
       "      <td>3264.0</td>\n",
       "      <td>197.107843</td>\n",
       "      <td>151.951589</td>\n",
       "      <td>0.0</td>\n",
       "      <td>11.0</td>\n",
       "      <td>213.0</td>\n",
       "      <td>356.0</td>\n",
       "      <td>365.0</td>\n",
       "    </tr>\n",
       "    <tr>\n",
       "      <th>Shared room</th>\n",
       "      <td>381.0</td>\n",
       "      <td>274.976378</td>\n",
       "      <td>133.449525</td>\n",
       "      <td>0.0</td>\n",
       "      <td>179.0</td>\n",
       "      <td>354.0</td>\n",
       "      <td>362.0</td>\n",
       "      <td>365.0</td>\n",
       "    </tr>\n",
       "  </tbody>\n",
       "</table>\n",
       "</div>"
      ],
      "text/plain": [
       "                  count        mean         std  min    25%    50%    75%  \\\n",
       "room_type                                                                   \n",
       "Entire home/apt  3470.0  203.613545  141.785510  0.0   55.0  254.0  340.0   \n",
       "Private room     3264.0  197.107843  151.951589  0.0   11.0  213.0  356.0   \n",
       "Shared room       381.0  274.976378  133.449525  0.0  179.0  354.0  362.0   \n",
       "\n",
       "                   max  \n",
       "room_type               \n",
       "Entire home/apt  365.0  \n",
       "Private room     365.0  \n",
       "Shared room      365.0  "
      ]
     },
     "execution_count": 50,
     "metadata": {},
     "output_type": "execute_result"
    }
   ],
   "source": [
    "rt_a = dataset.groupby(\"room_type\")[\"availability_365\"].describe()\n",
    "rt_a"
   ]
  },
  {
   "cell_type": "markdown",
   "metadata": {},
   "source": [
    "We can see more in depth the statistics of neighbourhood group and room type by availability.   \n",
    "\n",
    "Central Region has almost the highest availability in a year.    \n",
    "It's interesting to note that although the North Region has the lowest listings, it has the highest\n",
    "availability in a year.    \n",
    "\n",
    "It's not surprising to see that shared rooms has the highest availability.  \n",
    "Shared rooms are an easy way to generate revenue, as a host can fit multiple guests into one room.  \n",
    "If a host has multiple rooms in her property, by increasing the availability and lowering the price it could\n",
    "become lucrative.  \n",
    "\n",
    "Ultimately, availability depends on the preference of the host, whether or not they want to list a property or not.\n",
    "External factors such as traveling, renovation, needing a break, etc could influence the availability.\n",
    "\n"
   ]
  },
  {
   "cell_type": "code",
   "execution_count": 51,
   "metadata": {},
   "outputs": [
    {
     "data": {
      "text/plain": [
       "Text(0.5, 1, 'Neighbourhood Group & Availability')"
      ]
     },
     "execution_count": 51,
     "metadata": {},
     "output_type": "execute_result"
    },
    {
     "data": {
      "image/png": "[encoded data removed]",
      "text/plain": [
       "<Figure size 576x288 with 1 Axes>"
      ]
     },
     "metadata": {
      "needs_background": "light"
     },
     "output_type": "display_data"
    }
   ],
   "source": [
    "chart = sns.catplot(\n",
    "        data=dataset,\n",
    "        x = \"neighbourhood_group\",\n",
    "        y = \"availability_365\",\n",
    "        kind = \"box\",\n",
    "        aspect = 2,\n",
    "        height = 4)\n",
    "plt.xticks(rotation = 90)\n",
    "plt.title(\"Neighbourhood Group & Availability\")\n"
   ]
  },
  {
   "cell_type": "markdown",
   "metadata": {},
   "source": [
    "We can see that most of the overall range is between 49-354 days with an average availability of 204 days.   \n",
    "\n",
    "If we look into each neighbourhood groups specifically, we can see differences:     \n",
    "The Central Region has an average of 211 available days in a year for rental, with most of the range being in 57-354 days.     \n",
    "The East Region has an average of 174 available days in a year for rental, with most of the range being in 0-354 days.    \n",
    "The North Region has an average of 212 available days in a year for rental, with most of the range being in 35-364 days.    \n",
    "The North-East Region has an average of 164 available days in a year for rental, with most of the range being in 0-340 days.    \n",
    "The West Region has an average of 180 available days in a year for rental, with most of the range being in 0-355 days.\n",
    "\n",
    "This is definitely important for future hosts to know! "
   ]
  },
  {
   "cell_type": "markdown",
   "metadata": {},
   "source": [
    "#### Correlation Matrix\n",
    "\n",
    "Let's create a final correlation matrix, dropping variables that I do not think will be necessary for potential hosts to know such as name, host id, last review, latitude and longitude."
   ]
  },
  {
   "cell_type": "code",
   "execution_count": 52,
   "metadata": {},
   "outputs": [],
   "source": [
    "dataset.drop([\"name\", \"host_id\", \"last_review\",\"latitude\",\"longitude\"], axis=1, inplace=True)"
   ]
  },
  {
   "cell_type": "code",
   "execution_count": 53,
   "metadata": {},
   "outputs": [
    {
     "data": {
      "text/plain": [
       "Index(['neighbourhood_group', 'neighbourhood', 'room_type', 'price',\n",
       "       'minimum_nights', 'number_of_reviews', 'reviews_per_month',\n",
       "       'calculated_host_listings_count', 'availability_365', 'name_length'],\n",
       "      dtype='object')"
      ]
     },
     "execution_count": 53,
     "metadata": {},
     "output_type": "execute_result"
    },
    {
     "data": {
      "image/png": "[encoded data removed]",
      "text/plain": [
       "<Figure size 720x360 with 2 Axes>"
      ]
     },
     "metadata": {
      "needs_background": "light"
     },
     "output_type": "display_data"
    }
   ],
   "source": [
    "#Let's look at the correlation between all variables\n",
    "\n",
    "corr = dataset.corr(method = 'pearson')\n",
    "plt.figure(figsize=(10,5))\n",
    "sns.heatmap(corr, annot = True)\n",
    "dataset.columns"
   ]
  },
  {
   "cell_type": "code",
   "execution_count": 54,
   "metadata": {},
   "outputs": [
    {
     "data": {
      "text/plain": [
       "neighbourhood_group                object\n",
       "neighbourhood                      object\n",
       "room_type                          object\n",
       "price                               int64\n",
       "minimum_nights                      int64\n",
       "number_of_reviews                   int64\n",
       "reviews_per_month                 float64\n",
       "calculated_host_listings_count      int64\n",
       "availability_365                    int64\n",
       "name_length                         int64\n",
       "dtype: object"
      ]
     },
     "execution_count": 54,
     "metadata": {},
     "output_type": "execute_result"
    }
   ],
   "source": [
    "#Now that some variables are dropped, let's look at the datatype one last time\n",
    "dataset.dtypes"
   ]
  },
  {
   "cell_type": "markdown",
   "metadata": {},
   "source": [
    "## Creating Models\n"
   ]
  },
  {
   "cell_type": "markdown",
   "metadata": {},
   "source": [
    "### Basic Linear Regression \n",
    "\n",
    "A linear regression fits a linear model with coefficients to minimize the residual sum of squares between the observed target in the dataset and the targets predicted by the linear approximation. It is used to determine the extent of a linear relationship between the dependent variable and independent variables. \n",
    "\n",
    "In our particular study, let's set our dependent variable to be price and the other remaining variables as the independent variables. Out of all the variables above, I believe price is perhaps the most relevant factor a future host would consider as that has direct ties with its ROI. Deciding what the price be by neighbourhood, room type, and etc.\n"
   ]
  },
  {
   "cell_type": "code",
   "execution_count": 55,
   "metadata": {},
   "outputs": [
    {
     "data": {
      "text/plain": [
       "(7115, 13)"
      ]
     },
     "execution_count": 55,
     "metadata": {},
     "output_type": "execute_result"
    }
   ],
   "source": [
    "#Let's start by creating dummies for neighbourhood_group and room_type.\n",
    "#Dataframe shape will be checked as well\n",
    "\n",
    "dataset_LM = pd.get_dummies(dataset, columns=[\"neighbourhood_group\",\"room_type\"], prefix = [\"ng\",\"rt\"],drop_first=True)\n",
    "dataset_LM.drop([\"neighbourhood\"], axis=1, inplace=True)\n",
    "dataset_LM.shape"
   ]
  },
  {
   "cell_type": "markdown",
   "metadata": {},
   "source": [
    "### Splitting into training and testing"
   ]
  },
  {
   "cell_type": "code",
   "execution_count": 56,
   "metadata": {},
   "outputs": [
    {
     "name": "stdout",
     "output_type": "stream",
     "text": [
      "(5692, 12) (5692,)\n",
      "(1423, 12) (1423,)\n"
     ]
    }
   ],
   "source": [
    "#Let's split our training and testing data\n",
    "\n",
    "X1 = dataset_LM.loc[:, dataset_LM.columns != 'price']\n",
    "y1 = dataset_LM[\"price\"]\n",
    "X_train, X_test, y_train, y_test = train_test_split(X1, y1, test_size = 0.20, random_state=42)\n",
    "print(X_train.shape, y_train.shape)\n",
    "print(X_test.shape, y_test.shape)"
   ]
  },
  {
   "cell_type": "code",
   "execution_count": 57,
   "metadata": {},
   "outputs": [],
   "source": [
    "#Let's fit the model on the training data\n",
    "\n",
    "lm = linear_model.LinearRegression()\n",
    "model = lm.fit(X_train, y_train)"
   ]
  },
  {
   "cell_type": "code",
   "execution_count": 58,
   "metadata": {},
   "outputs": [
    {
     "data": {
      "text/plain": [
       "0.49188512188421074"
      ]
     },
     "execution_count": 58,
     "metadata": {},
     "output_type": "execute_result"
    }
   ],
   "source": [
    "#Let's find the R squared value\n",
    "\n",
    "model.score(X_train, y_train)"
   ]
  },
  {
   "cell_type": "code",
   "execution_count": 59,
   "metadata": {},
   "outputs": [
    {
     "data": {
      "text/html": [
       "<div>\n",
       "<style scoped>\n",
       "    .dataframe tbody tr th:only-of-type {\n",
       "        vertical-align: middle;\n",
       "    }\n",
       "\n",
       "    .dataframe tbody tr th {\n",
       "        vertical-align: top;\n",
       "    }\n",
       "\n",
       "    .dataframe thead th {\n",
       "        text-align: right;\n",
       "    }\n",
       "</style>\n",
       "<table border=\"1\" class=\"dataframe\">\n",
       "  <thead>\n",
       "    <tr style=\"text-align: right;\">\n",
       "      <th></th>\n",
       "      <th>Variable</th>\n",
       "      <th>Coefficient</th>\n",
       "    </tr>\n",
       "  </thead>\n",
       "  <tbody>\n",
       "    <tr>\n",
       "      <th>11</th>\n",
       "      <td>rt_Shared room</td>\n",
       "      <td>-136.135393</td>\n",
       "    </tr>\n",
       "    <tr>\n",
       "      <th>10</th>\n",
       "      <td>rt_Private room</td>\n",
       "      <td>-86.872529</td>\n",
       "    </tr>\n",
       "    <tr>\n",
       "      <th>8</th>\n",
       "      <td>ng_North-East Region</td>\n",
       "      <td>-14.753028</td>\n",
       "    </tr>\n",
       "    <tr>\n",
       "      <th>7</th>\n",
       "      <td>ng_North Region</td>\n",
       "      <td>-14.539387</td>\n",
       "    </tr>\n",
       "    <tr>\n",
       "      <th>9</th>\n",
       "      <td>ng_West Region</td>\n",
       "      <td>-11.312377</td>\n",
       "    </tr>\n",
       "    <tr>\n",
       "      <th>6</th>\n",
       "      <td>ng_East Region</td>\n",
       "      <td>-2.136350</td>\n",
       "    </tr>\n",
       "    <tr>\n",
       "      <th>0</th>\n",
       "      <td>minimum_nights</td>\n",
       "      <td>-1.036268</td>\n",
       "    </tr>\n",
       "    <tr>\n",
       "      <th>2</th>\n",
       "      <td>reviews_per_month</td>\n",
       "      <td>-0.881112</td>\n",
       "    </tr>\n",
       "    <tr>\n",
       "      <th>1</th>\n",
       "      <td>number_of_reviews</td>\n",
       "      <td>-0.114774</td>\n",
       "    </tr>\n",
       "    <tr>\n",
       "      <th>3</th>\n",
       "      <td>calculated_host_listings_count</td>\n",
       "      <td>0.009563</td>\n",
       "    </tr>\n",
       "    <tr>\n",
       "      <th>4</th>\n",
       "      <td>availability_365</td>\n",
       "      <td>0.059814</td>\n",
       "    </tr>\n",
       "    <tr>\n",
       "      <th>5</th>\n",
       "      <td>name_length</td>\n",
       "      <td>0.221004</td>\n",
       "    </tr>\n",
       "  </tbody>\n",
       "</table>\n",
       "</div>"
      ],
      "text/plain": [
       "                          Variable  Coefficient\n",
       "11                  rt_Shared room  -136.135393\n",
       "10                 rt_Private room   -86.872529\n",
       "8             ng_North-East Region   -14.753028\n",
       "7                  ng_North Region   -14.539387\n",
       "9                   ng_West Region   -11.312377\n",
       "6                   ng_East Region    -2.136350\n",
       "0                   minimum_nights    -1.036268\n",
       "2                reviews_per_month    -0.881112\n",
       "1                number_of_reviews    -0.114774\n",
       "3   calculated_host_listings_count     0.009563\n",
       "4                 availability_365     0.059814\n",
       "5                      name_length     0.221004"
      ]
     },
     "execution_count": 59,
     "metadata": {},
     "output_type": "execute_result"
    }
   ],
   "source": [
    "#Let's start our model prediction now\n",
    "\n",
    "y_pred = model.predict(X_test)\n",
    "Coeff = pd.DataFrame(columns=[\"Variable\",\"Coefficient\"])\n",
    "Coeff[\"Variable\"]= X_train.columns\n",
    "Coeff[\"Coefficient\"]=model.coef_\n",
    "Coeff.sort_values(\"Coefficient\")\n"
   ]
  },
  {
   "cell_type": "code",
   "execution_count": 60,
   "metadata": {},
   "outputs": [
    {
     "data": {
      "text/plain": [
       "array([-1.03626775e+00, -1.14774412e-01, -8.81111578e-01,  9.56264068e-03,\n",
       "        5.98135601e-02,  2.21003507e-01, -2.13634984e+00, -1.45393871e+01,\n",
       "       -1.47530276e+01, -1.13123770e+01, -8.68725286e+01, -1.36135393e+02])"
      ]
     },
     "execution_count": 60,
     "metadata": {},
     "output_type": "execute_result"
    }
   ],
   "source": [
    "#How does our coefficient parameters look?\n",
    "\n",
    "model.coef_"
   ]
  },
  {
   "cell_type": "code",
   "execution_count": 61,
   "metadata": {},
   "outputs": [
    {
     "data": {
      "text/plain": [
       "49.900203435010056"
      ]
     },
     "execution_count": 61,
     "metadata": {},
     "output_type": "execute_result"
    }
   ],
   "source": [
    "#Let's calculate the RMSE\n",
    "\n",
    "rmse = np.sqrt(metrics.mean_squared_error(y_test, y_pred))\n",
    "rmse"
   ]
  },
  {
   "cell_type": "code",
   "execution_count": 62,
   "metadata": {},
   "outputs": [
    {
     "name": "stdout",
     "output_type": "stream",
     "text": [
      "                            OLS Regression Results                            \n",
      "==============================================================================\n",
      "Dep. Variable:                  price   R-squared:                       0.492\n",
      "Model:                            OLS   Adj. R-squared:                  0.491\n",
      "Method:                 Least Squares   F-statistic:                     458.1\n",
      "Date:                Tue, 26 May 2020   Prob (F-statistic):               0.00\n",
      "Time:                        14:40:22   Log-Likelihood:                -30371.\n",
      "No. Observations:                5692   AIC:                         6.077e+04\n",
      "Df Residuals:                    5679   BIC:                         6.085e+04\n",
      "Df Model:                          12                                         \n",
      "Covariance Type:            nonrobust                                         \n",
      "==================================================================================================\n",
      "                                     coef    std err          t      P>|t|      [0.025      0.975]\n",
      "--------------------------------------------------------------------------------------------------\n",
      "const                            161.7958      2.797     57.842      0.000     156.312     167.279\n",
      "minimum_nights                    -1.0363      0.067    -15.354      0.000      -1.169      -0.904\n",
      "number_of_reviews                 -0.1148      0.031     -3.716      0.000      -0.175      -0.054\n",
      "reviews_per_month                 -0.8811      0.836     -1.054      0.292      -2.521       0.758\n",
      "calculated_host_listings_count     0.0096      0.012      0.811      0.417      -0.014       0.033\n",
      "availability_365                   0.0598      0.005     12.227      0.000       0.050       0.069\n",
      "name_length                        0.2210      0.064      3.450      0.001       0.095       0.347\n",
      "ng_East Region                    -2.1363      2.747     -0.778      0.437      -7.521       3.248\n",
      "ng_North Region                  -14.5394      4.077     -3.566      0.000     -22.532      -6.546\n",
      "ng_North-East Region             -14.7530      3.298     -4.473      0.000     -21.219      -8.287\n",
      "ng_West Region                   -11.3124      2.699     -4.192      0.000     -16.602      -6.022\n",
      "rt_Private room                  -86.8725      1.533    -56.667      0.000     -89.878     -83.867\n",
      "rt_Shared room                  -136.1354      3.167    -42.985      0.000    -142.344    -129.927\n",
      "==============================================================================\n",
      "Omnibus:                      576.387   Durbin-Watson:                   2.007\n",
      "Prob(Omnibus):                  0.000   Jarque-Bera (JB):              771.796\n",
      "Skew:                           0.841   Prob(JB):                    2.55e-168\n",
      "Kurtosis:                       3.655   Cond. No.                     1.61e+03\n",
      "==============================================================================\n",
      "\n",
      "Warnings:\n",
      "[1] Standard Errors assume that the covariance matrix of the errors is correctly specified.\n",
      "[2] The condition number is large, 1.61e+03. This might indicate that there are\n",
      "strong multicollinearity or other numerical problems.\n"
     ]
    }
   ],
   "source": [
    "#Let's look closer at the OLS Regression estimates\n",
    "\n",
    "x2 = sm.add_constant(X_train)\n",
    "est = sm.OLS(y_train, x2)\n",
    "est2 = est.fit()\n",
    "print(est2.summary())"
   ]
  },
  {
   "cell_type": "code",
   "execution_count": 63,
   "metadata": {},
   "outputs": [
    {
     "name": "stdout",
     "output_type": "stream",
     "text": [
      "                            OLS Regression Results                            \n",
      "==============================================================================\n",
      "Dep. Variable:                  price   R-squared:                       0.492\n",
      "Model:                            OLS   Adj. R-squared:                  0.491\n",
      "Method:                 Least Squares   F-statistic:                     499.8\n",
      "Date:                Tue, 26 May 2020   Prob (F-statistic):               0.00\n",
      "Time:                        14:40:22   Log-Likelihood:                -30371.\n",
      "No. Observations:                5692   AIC:                         6.077e+04\n",
      "Df Residuals:                    5680   BIC:                         6.085e+04\n",
      "Df Model:                          11                                         \n",
      "Covariance Type:            nonrobust                                         \n",
      "========================================================================================\n",
      "                           coef    std err          t      P>|t|      [0.025      0.975]\n",
      "----------------------------------------------------------------------------------------\n",
      "const                  162.0327      2.782     58.247      0.000     156.579     167.486\n",
      "minimum_nights          -1.0266      0.066    -15.453      0.000      -1.157      -0.896\n",
      "number_of_reviews       -0.1156      0.031     -3.744      0.000      -0.176      -0.055\n",
      "reviews_per_month       -0.9389      0.833     -1.127      0.260      -2.572       0.695\n",
      "availability_365         0.0606      0.005     12.626      0.000       0.051       0.070\n",
      "name_length              0.2266      0.064      3.559      0.000       0.102       0.351\n",
      "ng_East Region          -2.2896      2.740     -0.836      0.403      -7.661       3.082\n",
      "ng_North Region        -14.7428      4.069     -3.623      0.000     -22.721      -6.765\n",
      "ng_North-East Region   -14.9699      3.287     -4.554      0.000     -21.414      -8.525\n",
      "ng_West Region         -11.4112      2.696     -4.233      0.000     -16.696      -6.127\n",
      "rt_Private room        -87.2935      1.442    -60.519      0.000     -90.121     -84.466\n",
      "rt_Shared room        -136.5619      3.123    -43.728      0.000    -142.684    -130.440\n",
      "==============================================================================\n",
      "Omnibus:                      574.295   Durbin-Watson:                   2.006\n",
      "Prob(Omnibus):                  0.000   Jarque-Bera (JB):              768.640\n",
      "Skew:                           0.838   Prob(JB):                    1.24e-167\n",
      "Kurtosis:                       3.658   Cond. No.                     1.58e+03\n",
      "==============================================================================\n",
      "\n",
      "Warnings:\n",
      "[1] Standard Errors assume that the covariance matrix of the errors is correctly specified.\n",
      "[2] The condition number is large, 1.58e+03. This might indicate that there are\n",
      "strong multicollinearity or other numerical problems.\n"
     ]
    },
    {
     "name": "stderr",
     "output_type": "stream",
     "text": [
      "/opt/anaconda3/lib/python3.7/site-packages/pandas/core/frame.py:3997: SettingWithCopyWarning: \n",
      "A value is trying to be set on a copy of a slice from a DataFrame\n",
      "\n",
      "See the caveats in the documentation: https://pandas.pydata.org/pandas-docs/stable/user_guide/indexing.html#returning-a-view-versus-a-copy\n",
      "  errors=errors,\n"
     ]
    }
   ],
   "source": [
    "#Calculated_host_listings_count is not significant in our situation and will be dropped\n",
    "\n",
    "X_train.drop([\"calculated_host_listings_count\"], axis=1,inplace=True)\n",
    "x2 = sm.add_constant(X_train)\n",
    "est = sm.OLS(y_train, x2)\n",
    "est2 = est.fit()\n",
    "print(est2.summary())"
   ]
  },
  {
   "cell_type": "markdown",
   "metadata": {},
   "source": [
    "### Linear Model Insights"
   ]
  },
  {
   "cell_type": "markdown",
   "metadata": {},
   "source": [
    "Since a multiple linear regression was conducted, Adjusted R-Squared should be examined first.\n",
    "An Adjusted R-Squared value of 49.1% tells us that the independent variables explain 49.1% of variations\n",
    "of the dependent variable, being price.\n",
    "\n",
    "\n",
    "\n",
    "The constant has a value of 161.79, meaning if all other x variables were set at 0, an entire apartment/\n",
    "home in the Central Region would have a predicted price of 161.79. \n",
    "\n",
    " \n",
    "The coefficient of the East Region is -2.13.   \n",
    "This can be interpreted as followed: If everything else is held constant, an entire home/apartment listing \n",
    "in the East Region will have a predicted price of 2.13 less than that of a similiar listing in the Central Region.\n",
    "Similarily, the North Region would have a predicted cost of 14.54 less, North-East Region would have a predicted \n",
    "cost of 14.75 less and the West Region would have a predicted cost of 11.31 less than that of a similiar listing\n",
    "in the Central Region.\n",
    "\n",
    "\n",
    "We can also make same basis for type of rooms by its coefficient.\n",
    "A private room in the Central Region would have a predicted price of 86.87 less than that of an entire \n",
    "home/apartment in the Central Region.   \n",
    "A shared room in the Central Region would have a predicted price of 136.14 less than a entire home/apartment\n",
    "in the Central Region.  \n",
    "\n",
    "\n",
    "The coefficient of minimum nights can similarily tell us that with every additional unit increase in minimum\n",
    "number of nights stayed, the predicted price would decrease by 1.04.\n",
    "\n",
    "\n",
    "\n",
    "Standard error is the standard deviation of its sampling distribution.   \n",
    "T statistic is the calculated difference represented in units of standard error.    \n",
    "It is used in replace of a Z statistic because the population standard deviation is not known.   \n",
    " \n",
    "\n",
    "The p-value determines the significance of the results in relation to the null.   \n",
    "A p-value less than .05 is statistically significant, which indicates strong evidence against the null\n",
    "as there is less than 5% probability of the null being correct.    \n",
    "If we consider our alpha to be .05, we can reject the null for all variables except reviews_per_month\n",
    "and the east region.\n",
    " \n",
    "\n",
    "The confidence interval show the lower bound and upper bound for the true population coefficents with 95%\n",
    "   confidence. The confidence interval tells us the precise and stable the measurements are.\n",
    "\n",
    "\n",
    "RMSE is the standard deviation of the residuals, which measures how spread out the residual is and how \n",
    "   concentrated the data is around the line of best fit. The RMSE value of 49.9 shows that the model\n",
    "   can relatively predict the data accurately. \n",
    " \n",
    " \n",
    "   \n",
    "\n"
   ]
  },
  {
   "cell_type": "markdown",
   "metadata": {},
   "source": [
    "###  Lasso Regression \n",
    "\n",
    "A lasso regression uses shrinkage and performs both variable selection and regularization in order\n",
    "to enhance the prediction accuracy and of the statistical model it produces. \n",
    "In other words, it nullifies parameters that do not improve the model.\n",
    "In addition, since our dataset is not large, a Lasso regression might be more efficient than\n",
    "a Linear Regression for predictions as it reduces the variance.\n",
    "\n",
    "Let's use the variable neighborhood, which has more than 40 distinct values\n",
    "More values result in more variables being tested when dummies are created."
   ]
  },
  {
   "cell_type": "code",
   "execution_count": 64,
   "metadata": {},
   "outputs": [
    {
     "data": {
      "text/plain": [
       "(7115, 53)"
      ]
     },
     "execution_count": 64,
     "metadata": {},
     "output_type": "execute_result"
    }
   ],
   "source": [
    "dataset_LR = pd.get_dummies(dataset, columns=[\"neighbourhood_group\", \"neighbourhood\", \"room_type\"],\n",
    "                            prefix = [\"ng\", \"nh\", \"rt\"], drop_first= True)\n",
    "dataset_LR.shape"
   ]
  },
  {
   "cell_type": "code",
   "execution_count": 65,
   "metadata": {},
   "outputs": [
    {
     "name": "stdout",
     "output_type": "stream",
     "text": [
      "(5692, 52) (5692,)\n",
      "(1423, 52) (1423,)\n"
     ]
    }
   ],
   "source": [
    "XL = dataset_LR.loc[:, dataset_LR.columns != \"price\"]\n",
    "yL = dataset_LR[\"price\"]\n",
    "X_trainL, X_testL, y_trainL, y_testL = train_test_split(XL, yL, test_size = .20, random_state=42)\n",
    "print(X_trainL.shape, y_trainL.shape)\n",
    "print(X_testL.shape, y_testL.shape)"
   ]
  },
  {
   "cell_type": "code",
   "execution_count": 66,
   "metadata": {},
   "outputs": [
    {
     "data": {
      "text/plain": [
       "Lasso(alpha=0.01, copy_X=True, fit_intercept=True, max_iter=1000,\n",
       "      normalize=False, positive=False, precompute=False, random_state=None,\n",
       "      selection='cyclic', tol=0.0001, warm_start=False)"
      ]
     },
     "execution_count": 66,
     "metadata": {},
     "output_type": "execute_result"
    }
   ],
   "source": [
    "regL = Lasso(alpha = 0.01)\n",
    "regL.fit(X_trainL, y_trainL)"
   ]
  },
  {
   "cell_type": "code",
   "execution_count": 67,
   "metadata": {},
   "outputs": [
    {
     "data": {
      "text/plain": [
       "0.5125815555518364"
      ]
     },
     "execution_count": 67,
     "metadata": {},
     "output_type": "execute_result"
    }
   ],
   "source": [
    "#Like our Linear Regression Model, let's check our R Squared Value\n",
    "\n",
    "regL.score(X_trainL, y_trainL)\n"
   ]
  },
  {
   "cell_type": "code",
   "execution_count": 68,
   "metadata": {},
   "outputs": [
    {
     "name": "stdout",
     "output_type": "stream",
     "text": [
      "49.208076573536474\n"
     ]
    }
   ],
   "source": [
    "#How does our RMSE look with a Lasso Regression?\n",
    "\n",
    "y_predL = regL.predict(X_testL)\n",
    "print(np.sqrt(metrics.mean_squared_error(y_testL, y_predL)))"
   ]
  },
  {
   "cell_type": "code",
   "execution_count": 69,
   "metadata": {},
   "outputs": [
    {
     "data": {
      "text/html": [
       "<div>\n",
       "<style scoped>\n",
       "    .dataframe tbody tr th:only-of-type {\n",
       "        vertical-align: middle;\n",
       "    }\n",
       "\n",
       "    .dataframe tbody tr th {\n",
       "        vertical-align: top;\n",
       "    }\n",
       "\n",
       "    .dataframe thead th {\n",
       "        text-align: right;\n",
       "    }\n",
       "</style>\n",
       "<table border=\"1\" class=\"dataframe\">\n",
       "  <thead>\n",
       "    <tr style=\"text-align: right;\">\n",
       "      <th></th>\n",
       "      <th>Variable</th>\n",
       "      <th>Coefficient</th>\n",
       "    </tr>\n",
       "  </thead>\n",
       "  <tbody>\n",
       "    <tr>\n",
       "      <th>42</th>\n",
       "      <td>nh_Southern Islands</td>\n",
       "      <td>86.946087</td>\n",
       "    </tr>\n",
       "    <tr>\n",
       "      <th>43</th>\n",
       "      <td>nh_Sungei Kadut</td>\n",
       "      <td>29.931844</td>\n",
       "    </tr>\n",
       "    <tr>\n",
       "      <th>31</th>\n",
       "      <td>nh_Orchard</td>\n",
       "      <td>24.306855</td>\n",
       "    </tr>\n",
       "    <tr>\n",
       "      <th>19</th>\n",
       "      <td>nh_Downtown Core</td>\n",
       "      <td>20.937589</td>\n",
       "    </tr>\n",
       "    <tr>\n",
       "      <th>18</th>\n",
       "      <td>nh_Clementi</td>\n",
       "      <td>20.093706</td>\n",
       "    </tr>\n",
       "    <tr>\n",
       "      <th>45</th>\n",
       "      <td>nh_Tanglin</td>\n",
       "      <td>9.503438</td>\n",
       "    </tr>\n",
       "    <tr>\n",
       "      <th>16</th>\n",
       "      <td>nh_Central Water Catchment</td>\n",
       "      <td>9.031650</td>\n",
       "    </tr>\n",
       "    <tr>\n",
       "      <th>41</th>\n",
       "      <td>nh_Singapore River</td>\n",
       "      <td>6.637440</td>\n",
       "    </tr>\n",
       "    <tr>\n",
       "      <th>22</th>\n",
       "      <td>nh_Jurong East</td>\n",
       "      <td>6.538275</td>\n",
       "    </tr>\n",
       "    <tr>\n",
       "      <th>37</th>\n",
       "      <td>nh_Rochor</td>\n",
       "      <td>6.347765</td>\n",
       "    </tr>\n",
       "    <tr>\n",
       "      <th>30</th>\n",
       "      <td>nh_Novena</td>\n",
       "      <td>4.994782</td>\n",
       "    </tr>\n",
       "    <tr>\n",
       "      <th>29</th>\n",
       "      <td>nh_Newton</td>\n",
       "      <td>3.857812</td>\n",
       "    </tr>\n",
       "    <tr>\n",
       "      <th>35</th>\n",
       "      <td>nh_Queenstown</td>\n",
       "      <td>2.266293</td>\n",
       "    </tr>\n",
       "    <tr>\n",
       "      <th>28</th>\n",
       "      <td>nh_Museum</td>\n",
       "      <td>0.967613</td>\n",
       "    </tr>\n",
       "    <tr>\n",
       "      <th>32</th>\n",
       "      <td>nh_Outram</td>\n",
       "      <td>0.560257</td>\n",
       "    </tr>\n",
       "    <tr>\n",
       "      <th>10</th>\n",
       "      <td>nh_Bedok</td>\n",
       "      <td>0.286461</td>\n",
       "    </tr>\n",
       "    <tr>\n",
       "      <th>5</th>\n",
       "      <td>name_length</td>\n",
       "      <td>0.228321</td>\n",
       "    </tr>\n",
       "    <tr>\n",
       "      <th>4</th>\n",
       "      <td>availability_365</td>\n",
       "      <td>0.061397</td>\n",
       "    </tr>\n",
       "    <tr>\n",
       "      <th>25</th>\n",
       "      <td>nh_Lim Chu Kang</td>\n",
       "      <td>0.000000</td>\n",
       "    </tr>\n",
       "    <tr>\n",
       "      <th>12</th>\n",
       "      <td>nh_Bukit Batok</td>\n",
       "      <td>0.000000</td>\n",
       "    </tr>\n",
       "    <tr>\n",
       "      <th>15</th>\n",
       "      <td>nh_Bukit Timah</td>\n",
       "      <td>-0.000000</td>\n",
       "    </tr>\n",
       "    <tr>\n",
       "      <th>49</th>\n",
       "      <td>nh_Yishun</td>\n",
       "      <td>-0.000000</td>\n",
       "    </tr>\n",
       "    <tr>\n",
       "      <th>27</th>\n",
       "      <td>nh_Marine Parade</td>\n",
       "      <td>-0.000000</td>\n",
       "    </tr>\n",
       "    <tr>\n",
       "      <th>3</th>\n",
       "      <td>calculated_host_listings_count</td>\n",
       "      <td>-0.001493</td>\n",
       "    </tr>\n",
       "    <tr>\n",
       "      <th>1</th>\n",
       "      <td>number_of_reviews</td>\n",
       "      <td>-0.106915</td>\n",
       "    </tr>\n",
       "    <tr>\n",
       "      <th>0</th>\n",
       "      <td>minimum_nights</td>\n",
       "      <td>-1.112973</td>\n",
       "    </tr>\n",
       "    <tr>\n",
       "      <th>2</th>\n",
       "      <td>reviews_per_month</td>\n",
       "      <td>-1.432030</td>\n",
       "    </tr>\n",
       "    <tr>\n",
       "      <th>6</th>\n",
       "      <td>ng_East Region</td>\n",
       "      <td>-1.817905</td>\n",
       "    </tr>\n",
       "    <tr>\n",
       "      <th>11</th>\n",
       "      <td>nh_Bishan</td>\n",
       "      <td>-2.279974</td>\n",
       "    </tr>\n",
       "    <tr>\n",
       "      <th>40</th>\n",
       "      <td>nh_Serangoon</td>\n",
       "      <td>-2.432955</td>\n",
       "    </tr>\n",
       "    <tr>\n",
       "      <th>23</th>\n",
       "      <td>nh_Jurong West</td>\n",
       "      <td>-2.512009</td>\n",
       "    </tr>\n",
       "    <tr>\n",
       "      <th>8</th>\n",
       "      <td>ng_North-East Region</td>\n",
       "      <td>-5.388203</td>\n",
       "    </tr>\n",
       "    <tr>\n",
       "      <th>24</th>\n",
       "      <td>nh_Kallang</td>\n",
       "      <td>-5.794138</td>\n",
       "    </tr>\n",
       "    <tr>\n",
       "      <th>14</th>\n",
       "      <td>nh_Bukit Panjang</td>\n",
       "      <td>-6.038289</td>\n",
       "    </tr>\n",
       "    <tr>\n",
       "      <th>26</th>\n",
       "      <td>nh_Mandai</td>\n",
       "      <td>-6.071948</td>\n",
       "    </tr>\n",
       "    <tr>\n",
       "      <th>17</th>\n",
       "      <td>nh_Choa Chu Kang</td>\n",
       "      <td>-6.663047</td>\n",
       "    </tr>\n",
       "    <tr>\n",
       "      <th>36</th>\n",
       "      <td>nh_River Valley</td>\n",
       "      <td>-8.034909</td>\n",
       "    </tr>\n",
       "    <tr>\n",
       "      <th>44</th>\n",
       "      <td>nh_Tampines</td>\n",
       "      <td>-8.372422</td>\n",
       "    </tr>\n",
       "    <tr>\n",
       "      <th>46</th>\n",
       "      <td>nh_Toa Payoh</td>\n",
       "      <td>-8.668211</td>\n",
       "    </tr>\n",
       "    <tr>\n",
       "      <th>38</th>\n",
       "      <td>nh_Sembawang</td>\n",
       "      <td>-8.672415</td>\n",
       "    </tr>\n",
       "    <tr>\n",
       "      <th>33</th>\n",
       "      <td>nh_Pasir Ris</td>\n",
       "      <td>-8.682513</td>\n",
       "    </tr>\n",
       "    <tr>\n",
       "      <th>20</th>\n",
       "      <td>nh_Geylang</td>\n",
       "      <td>-10.291129</td>\n",
       "    </tr>\n",
       "    <tr>\n",
       "      <th>48</th>\n",
       "      <td>nh_Woodlands</td>\n",
       "      <td>-10.872390</td>\n",
       "    </tr>\n",
       "    <tr>\n",
       "      <th>7</th>\n",
       "      <td>ng_North Region</td>\n",
       "      <td>-12.980965</td>\n",
       "    </tr>\n",
       "    <tr>\n",
       "      <th>34</th>\n",
       "      <td>nh_Punggol</td>\n",
       "      <td>-15.169499</td>\n",
       "    </tr>\n",
       "    <tr>\n",
       "      <th>9</th>\n",
       "      <td>ng_West Region</td>\n",
       "      <td>-15.482451</td>\n",
       "    </tr>\n",
       "    <tr>\n",
       "      <th>21</th>\n",
       "      <td>nh_Hougang</td>\n",
       "      <td>-16.615304</td>\n",
       "    </tr>\n",
       "    <tr>\n",
       "      <th>39</th>\n",
       "      <td>nh_Sengkang</td>\n",
       "      <td>-19.477421</td>\n",
       "    </tr>\n",
       "    <tr>\n",
       "      <th>47</th>\n",
       "      <td>nh_Western Water Catchment</td>\n",
       "      <td>-20.130735</td>\n",
       "    </tr>\n",
       "    <tr>\n",
       "      <th>13</th>\n",
       "      <td>nh_Bukit Merah</td>\n",
       "      <td>-20.835840</td>\n",
       "    </tr>\n",
       "    <tr>\n",
       "      <th>50</th>\n",
       "      <td>rt_Private room</td>\n",
       "      <td>-86.877090</td>\n",
       "    </tr>\n",
       "    <tr>\n",
       "      <th>51</th>\n",
       "      <td>rt_Shared room</td>\n",
       "      <td>-138.915667</td>\n",
       "    </tr>\n",
       "  </tbody>\n",
       "</table>\n",
       "</div>"
      ],
      "text/plain": [
       "                          Variable  Coefficient\n",
       "42             nh_Southern Islands    86.946087\n",
       "43                 nh_Sungei Kadut    29.931844\n",
       "31                      nh_Orchard    24.306855\n",
       "19                nh_Downtown Core    20.937589\n",
       "18                     nh_Clementi    20.093706\n",
       "45                      nh_Tanglin     9.503438\n",
       "16      nh_Central Water Catchment     9.031650\n",
       "41              nh_Singapore River     6.637440\n",
       "22                  nh_Jurong East     6.538275\n",
       "37                       nh_Rochor     6.347765\n",
       "30                       nh_Novena     4.994782\n",
       "29                       nh_Newton     3.857812\n",
       "35                   nh_Queenstown     2.266293\n",
       "28                       nh_Museum     0.967613\n",
       "32                       nh_Outram     0.560257\n",
       "10                        nh_Bedok     0.286461\n",
       "5                      name_length     0.228321\n",
       "4                 availability_365     0.061397\n",
       "25                 nh_Lim Chu Kang     0.000000\n",
       "12                  nh_Bukit Batok     0.000000\n",
       "15                  nh_Bukit Timah    -0.000000\n",
       "49                       nh_Yishun    -0.000000\n",
       "27                nh_Marine Parade    -0.000000\n",
       "3   calculated_host_listings_count    -0.001493\n",
       "1                number_of_reviews    -0.106915\n",
       "0                   minimum_nights    -1.112973\n",
       "2                reviews_per_month    -1.432030\n",
       "6                   ng_East Region    -1.817905\n",
       "11                       nh_Bishan    -2.279974\n",
       "40                    nh_Serangoon    -2.432955\n",
       "23                  nh_Jurong West    -2.512009\n",
       "8             ng_North-East Region    -5.388203\n",
       "24                      nh_Kallang    -5.794138\n",
       "14                nh_Bukit Panjang    -6.038289\n",
       "26                       nh_Mandai    -6.071948\n",
       "17                nh_Choa Chu Kang    -6.663047\n",
       "36                 nh_River Valley    -8.034909\n",
       "44                     nh_Tampines    -8.372422\n",
       "46                    nh_Toa Payoh    -8.668211\n",
       "38                    nh_Sembawang    -8.672415\n",
       "33                    nh_Pasir Ris    -8.682513\n",
       "20                      nh_Geylang   -10.291129\n",
       "48                    nh_Woodlands   -10.872390\n",
       "7                  ng_North Region   -12.980965\n",
       "34                      nh_Punggol   -15.169499\n",
       "9                   ng_West Region   -15.482451\n",
       "21                      nh_Hougang   -16.615304\n",
       "39                     nh_Sengkang   -19.477421\n",
       "47      nh_Western Water Catchment   -20.130735\n",
       "13                  nh_Bukit Merah   -20.835840\n",
       "50                 rt_Private room   -86.877090\n",
       "51                  rt_Shared room  -138.915667"
      ]
     },
     "execution_count": 69,
     "metadata": {},
     "output_type": "execute_result"
    }
   ],
   "source": [
    "#What about the coefficients?\n",
    "\n",
    "CoeffL = pd.DataFrame(columns=[\"Variable\",\"Coefficient\"])\n",
    "CoeffL[\"Variable\"]= X_trainL.columns\n",
    "CoeffL[\"Coefficient\"]=regL.coef_\n",
    "CoeffL.sort_values(\"Coefficient\", ascending = False)"
   ]
  },
  {
   "cell_type": "code",
   "execution_count": 70,
   "metadata": {},
   "outputs": [
    {
     "data": {
      "text/plain": [
       "array([-1.11297333e+00, -1.06914636e-01, -1.43202997e+00, -1.49288987e-03,\n",
       "        6.13973632e-02,  2.28320894e-01, -1.81790475e+00, -1.29809648e+01,\n",
       "       -5.38820297e+00, -1.54824509e+01,  2.86461212e-01, -2.27997432e+00,\n",
       "        0.00000000e+00, -2.08358400e+01, -6.03828922e+00, -0.00000000e+00,\n",
       "        9.03164977e+00, -6.66304696e+00,  2.00937056e+01,  2.09375890e+01,\n",
       "       -1.02911285e+01, -1.66153038e+01,  6.53827523e+00, -2.51200890e+00,\n",
       "       -5.79413827e+00,  0.00000000e+00, -6.07194759e+00, -0.00000000e+00,\n",
       "        9.67613000e-01,  3.85781234e+00,  4.99478215e+00,  2.43068550e+01,\n",
       "        5.60257300e-01, -8.68251301e+00, -1.51694991e+01,  2.26629301e+00,\n",
       "       -8.03490888e+00,  6.34776464e+00, -8.67241525e+00, -1.94774206e+01,\n",
       "       -2.43295540e+00,  6.63744029e+00,  8.69460874e+01,  2.99318443e+01,\n",
       "       -8.37242182e+00,  9.50343764e+00, -8.66821084e+00, -2.01307346e+01,\n",
       "       -1.08723897e+01, -0.00000000e+00, -8.68770899e+01, -1.38915667e+02])"
      ]
     },
     "execution_count": 70,
     "metadata": {},
     "output_type": "execute_result"
    }
   ],
   "source": [
    "#How does the coefficients parameter look?\n",
    "regL.coef_"
   ]
  },
  {
   "cell_type": "markdown",
   "metadata": {},
   "source": [
    "### Lasso Regression Insights\n",
    "\n",
    "1. The lasso regression had a better R Squared Value (.513) and did better in prediction than \n",
    "   our normal linear regression R Squared Value (.492).\n",
    "\n",
    "\n",
    "2. Our RMSE has a slightly smaller value (49.2).\n",
    "\n",
    "\n",
    "3. We can see that compared to our earlier coefficients paramaters, some of the paramaters\n",
    "   have zero coefficients.\n",
    "\n",
    "\n",
    "4. Coefficients have a higher range between [-138.9, 86.9] which is higher than before.\n"
   ]
  },
  {
   "cell_type": "markdown",
   "metadata": {},
   "source": [
    "## Recap"
   ]
  },
  {
   "cell_type": "markdown",
   "metadata": {},
   "source": [
    "The purpose of this study was based on a hypothetic scenario in which future Airbnb Singapore hosts wants to evaluate what criteras are important in their decision making with Airbnb. By understanding the effects of each variable, a future host can make a strategic decision based on the findings.\n",
    "\n",
    "(e.g: What is the most optimal region to list a property?         \n",
    "      How does price distribution beftween different neighbourhood groups/regions look like?       \n",
    "      What is the effect with minimum nights or availability if there is any?...).         \n",
    "\n",
    "To summarize our findings, it was found that:   \n",
    "The initial dataset had roughly 8k entries with 16 variables.     \n",
    "An initial correlation matrix was conducted to examine the relationship between different variables.   \n",
    "After cleaning up the data (changing nulls, setting several caps, removing unnecessary variables) and removing  variables that was thought to be unnecessary, the end dataset resulted in 7.1k entries and 7 variables.\n",
    "A final correlation matrix with the remaining variables were conducted.   \n",
    "\n",
    "\n",
    "#### Price\n",
    "99% of the dataset had prices under 1000 with the remaining 1% having price over 1000.\n",
    "It was found most prices were between the range of 0-300, by setting a price cap of 300 the overall average price per night for a rental came out to be 122.\n",
    "In addition, most listings with a price over 100 were entire homes/apartments in the Central Region while most listings under a price of 100 were mainly private rooms in the other four regions. \n",
    "\n",
    "\n",
    "#### Neighbourhood Groups/Regions\n",
    "In Singapore, there are five neighbourhood groups/regions: Central, East, North, North-East and West.  \n",
    "Something important to note is the distribution and pricing of listings between the different regions.\n",
    "This can definitely contribute to a future's host strategic decision in where to list a property.\n",
    "\n",
    "The distribution of the listings found are as followed:   \n",
    "1. 78% of the listings are located in the Central Region    \n",
    "2. 7% of listings are located in the West Region    \n",
    "3. 7% of listings are located in the East Region    \n",
    "4. 5% of listings are located in the North-East Region   \n",
    "5. 3% of listings are located in the North Region        \n",
    "\n",
    "The average listing price by neigbhourhood are as followed:    \n",
    "1. Central Region - 130.405, most listings within the price range of 69-179   \n",
    "2. East Region - 102.342, most listings within the price range of 59-131   \n",
    "3. North Region - 88.510, most listings within the price range of 43.5-125   \n",
    "4. North-East Region - 78.389, most listings within the price range of 44-99   \n",
    "5. West Region - 89.463, most listings within the price range of 50-121   \n",
    "\n",
    "#### Neighbourhoods\n",
    "From the five regions, it was found that there were 41 unique neighborhoods in Singapore  \n",
    "1. Central Region - 19 neighbourhoods   \n",
    "2. North Region - 7 neighbourhoods   \n",
    "3. West Region - 7 neighbourhoods   \n",
    "4. Northeast Region - 5 neighbourhoods   \n",
    "5. East Region - 3 neigbhourhoods  \n",
    " \n",
    "Kallang (952) had the highest amount of listings, while Lim Chu Kang (1) only had one listing.   \n",
    "In fact, there were five neighbourhoods with <= 5 listings,        \n",
    "23 neighbourhoods with < 100 listings,         \n",
    "8 neighbourhoods with listings between 100-200,          \n",
    "4 neighbourhoods with listings between 200-400,         \n",
    "4 neighbourhoods with listings between 400-500,         \n",
    "2 neighbourhoods with listings between 900-1000    \n",
    "This translated to 70% of the listings being counted more than 200 times and the remaining 30% counted <200 times.\n",
    "\n",
    "\n",
    "#### Host Ids\n",
    "Host Ids was found to not be a really useful variable and was later dropped.   \n",
    "Although it was found that the host id 66406177 (Jay) had the most listings of property in Airbnb Singapore.    \n",
    "A future host could potentially contact Jay for discussion about his experience with Airbnb.   \n",
    "\n",
    "#### Name Length\n",
    "The shortest name of a listing had 1 character and the longest name of a listing had 92 characters.    \n",
    "It was found that there was a miniscule negative correlation between name length and reviews (-0.029).    \n",
    "However, it was found that there is a slight positive correlation name length and price (.125).    \n",
    "\n",
    "\n",
    "#### Room Type\n",
    "49% of listings are entire homes/apartments, average price of 169.9   \n",
    "46% of listings are private rooms, average price of 80.1    \n",
    "5% of listings are shared rooms, average price of 45.5    \n",
    "\n",
    "\n",
    "#### Minimum Nights\n",
    "It was found that there was a range between 1-1000 minimum nights which was odd, since most listings was within the range between 1-13. Only one listing had a minimum night requirement of 1000. Removing the outliers and replacing minimum nights over 30 with 30, it was found that was a small negative correlation between minimum nights and price (-0.052).\n",
    "\n",
    "#### Availability 365\n",
    "Most listings were available 49-354 days out of a year.   \n",
    "Central Region had an average availability of 211.3 days   \n",
    "East Region had an average availability of 174.5 days    \n",
    "North Region had an average availability of 211.8 days        \n",
    "North-East Region had an average availability of 163.5 days    \n",
    "West Region had an average availability of 180.9 days.    \n",
    "\n",
    "#### Models\n",
    "Linear Regression    \n",
    "The Linear Regression had a 49.1% accurate prediction of price. The constant value of 161.79 means that if all other variables were set a 0, an entire apartment/home in the Central Region would have a predicted price of 161.79.    \n",
    "Similarily, this basis can be used for the following coefficients:   \n",
    "Private Room - 86.87 less  \n",
    "Shared room 136.14 less   \n",
    "Minimum nights - 1.04 less  \n",
    "P-value also tells us that we can reject the null for all variables except the east region and reviews per month.\n",
    "\n",
    "Lasso Regression     \n",
    "The Lasso Regression was a better predictor of neighbourhood than the Linear Regression, with a R squared value of .513 and RMSE value of 49.2. Compared to the Linear Regression, some parameters consisted of zero coefficients, with the coefficients having a higher range than the Linear Regression.\n",
    "\n",
    "\n"
   ]
  }
 ],
 "metadata": {
  "kernelspec": {
   "display_name": "Python 3",
   "language": "python",
   "name": "python3"
  },
  "language_info": {
   "codemirror_mode": {
    "name": "ipython",
    "version": 3
   },
   "file_extension": ".py",
   "mimetype": "text/x-python",
   "name": "python",
   "nbconvert_exporter": "python",
   "pygments_lexer": "ipython3",
   "version": "3.7.6"
  }
 },
 "nbformat": 4,
 "nbformat_minor": 4
}
